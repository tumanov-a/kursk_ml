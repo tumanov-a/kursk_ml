{
 "cells": [
  {
   "cell_type": "code",
   "execution_count": 1,
   "metadata": {
    "id": "tAb77yZ9fzMG"
   },
   "outputs": [],
   "source": [
    "import os, os.path\n",
    "\n",
    "os.environ[\"CUDA_DEVICE_ORDER\"]=\"PCI_BUS_ID\"\n",
    "os.environ[\"CUDA_VISIBLE_DEVICES\"]=\"6\"\n",
    "\n",
    "import torch\n",
    "import numpy as np\n",
    "import pandas as pd\n",
    "import re\n",
    "import random\n",
    "\n",
    "from sklearn.model_selection import train_test_split, StratifiedKFold\n",
    "from tensorflow.keras.preprocessing.sequence import pad_sequences\n",
    "from sklearn.metrics import f1_score, roc_auc_score\n",
    "from transformers import AutoModel, AutoConfig, AutoTokenizer, get_linear_schedule_with_warmup\n",
    "from tqdm.auto import tqdm\n",
    "from torch.optim import Adam, AdamW\n",
    "from torch.nn import functional as F"
   ]
  },
  {
   "cell_type": "code",
   "execution_count": 2,
   "metadata": {},
   "outputs": [],
   "source": [
    "def set_seed(seed: int = 666, precision: int = 10) -> None:\n",
    "    np.random.seed(seed)\n",
    "    random.seed(seed)\n",
    "    os.environ['PYTHONHASHSEED'] = str(seed)\n",
    "    torch.backends.cudnn.benchmark = False\n",
    "    torch.backends.cudnn.deterministic = True\n",
    "    torch.manual_seed(seed)\n",
    "    torch.cuda.manual_seed(seed)\n",
    "    torch.set_printoptions(precision=precision)"
   ]
  },
  {
   "cell_type": "code",
   "execution_count": 3,
   "metadata": {},
   "outputs": [],
   "source": [
    "CLEANR = re.compile('<.*?>|&([a-z0-9]+|#[0-9]{1,6}|#x[0-9a-f]{1,6});')\n",
    "\n",
    "def cleanhtml(raw_html):\n",
    "    cleantext = re.sub(CLEANR, ' ', raw_html)\n",
    "    cleantext = re.sub('\\s+', ' ', cleantext)\n",
    "    return cleantext"
   ]
  },
  {
   "cell_type": "code",
   "execution_count": 4,
   "metadata": {},
   "outputs": [],
   "source": [
    "train_data = pd.read_csv('./train_dataset_train.csv', encoding='utf-8')\n",
    "test_data = pd.read_csv('./test_dataset_test.csv', encoding='utf-8')\n",
    "\n",
    "train_data = train_data[train_data['Категория'] != 12]\n",
    "\n",
    "train_data['Текст Сообщения'] = train_data['Текст Сообщения'].apply(cleanhtml)\n",
    "test_data['Текст Сообщения'] = test_data['Текст Сообщения'].apply(cleanhtml)\n",
    "\n",
    "train_data['Текст Сообщения'] = train_data['Текст Сообщения'].apply(lambda x: x[:512])\n",
    "test_data['Текст Сообщения'] = test_data['Текст Сообщения'].apply(lambda x: x[:512])\n",
    "\n",
    "train_data['Текст Сообщения'] = train_data['Текст Сообщения'].apply(lambda x: '<s> ' + x + ' </s>')\n",
    "test_data['Текст Сообщения'] = test_data['Текст Сообщения'].apply(lambda x: '<s> ' + x + ' </s>')\n",
    "\n",
    "repl_dict = {key:i for i, (key, value) in enumerate(dict(train_data['Категория'].value_counts()).items())}\n",
    "train_data['Категория'] = train_data['Категория'].map(repl_dict)"
   ]
  },
  {
   "cell_type": "code",
   "execution_count": 5,
   "metadata": {},
   "outputs": [],
   "source": [
    "def create_dataloader(x_data, batch_size, sampler, y_data = ''):\n",
    "    tokenized_texts = [tokenizer.tokenize(sent) for sent in x_data]\n",
    "    inputs = [tokenizer.convert_tokens_to_ids(x) for x in tokenized_texts]\n",
    "    padded_inputs = pad_sequences(inputs, \n",
    "                          dtype='long', \n",
    "                          padding='post', \n",
    "                          truncating='post')\n",
    "    masks = [[float(i>0) for i in seq] for seq in padded_inputs]\n",
    "    \n",
    "    padded_inputs = torch.tensor(padded_inputs)\n",
    "    masks = torch.tensor(masks)\n",
    "    \n",
    "    try:\n",
    "        labels = np.array(y_data)\n",
    "        labels = torch.tensor(labels)\n",
    "        tensor_dataset = torch.utils.data.TensorDataset(padded_inputs, masks, labels)\n",
    "    except:\n",
    "        tensor_dataset = torch.utils.data.TensorDataset(padded_inputs, masks)\n",
    "    \n",
    "    if sampler == 'random':\n",
    "        dataloader = torch.utils.data.DataLoader(\n",
    "            tensor_dataset,\n",
    "            batch_size=batch_size,\n",
    "            sampler=torch.utils.data.RandomSampler(tensor_dataset)\n",
    "        )\n",
    "    elif sampler == 'sequential':\n",
    "        dataloader = torch.utils.data.DataLoader(\n",
    "            tensor_dataset,\n",
    "            batch_size=batch_size,\n",
    "            sampler=torch.utils.data.SequentialSampler(tensor_dataset)\n",
    "        )\n",
    "    return dataloader"
   ]
  },
  {
   "cell_type": "code",
   "execution_count": 6,
   "metadata": {},
   "outputs": [],
   "source": [
    "model_name = 'DeepPavlov/xlm-roberta-large-en-ru'"
   ]
  },
  {
   "cell_type": "code",
   "execution_count": 7,
   "metadata": {},
   "outputs": [],
   "source": [
    "tokenizer = AutoTokenizer.from_pretrained(model_name)"
   ]
  },
  {
   "cell_type": "code",
   "execution_count": 8,
   "metadata": {
    "colab": {
     "base_uri": "https://localhost:8080/"
    },
    "id": "vKpdI7bdkwRf",
    "outputId": "ffda8a85-e832-48ae-c99a-740d2bbe5dbe"
   },
   "outputs": [],
   "source": [
    "\n",
    "class myBertModel(torch.nn.Module):\n",
    "    def __init__(self, hidden_neurons, n_labels):\n",
    "        super(myBertModel, self).__init__()\n",
    "        self.n_labels = n_labels\n",
    "        config = AutoConfig.from_pretrained(model_name, num_labels=self.n_labels)\n",
    "        self.model = AutoModel.from_pretrained(model_name, config=config)\n",
    "        self.hidden_neurons = hidden_neurons\n",
    "        self.linear1 = torch.nn.Linear(config.hidden_size, int(self.hidden_neurons / 2))\n",
    "        self.classifier = torch.nn.Linear(config.hidden_size, self.n_labels)\n",
    "#         self.dropout = torch.nn.Dropout(.3)\n",
    "        \n",
    "        self.attention = torch.nn.Sequential(\n",
    "            torch.nn.Linear(config.hidden_size, 512),\n",
    "            torch.nn.Tanh(),\n",
    "            torch.nn.Linear(512, 1),\n",
    "            torch.nn.Softmax(dim=1)\n",
    "        )\n",
    "        \n",
    "    def forward(self, input_ids, attention_mask):\n",
    "        bert_output = self.model(input_ids=input_ids, attention_mask=attention_mask)\n",
    "        last_hidden_states = bert_output[0]\n",
    "        weights = self.attention(last_hidden_states)\n",
    "        feature = torch.sum(weights * last_hidden_states, dim=1)\n",
    "        scores = self.classifier(feature)\n",
    "        return scores"
   ]
  },
  {
   "cell_type": "code",
   "execution_count": 9,
   "metadata": {},
   "outputs": [],
   "source": [
    "def train_loop(train_dataloader, val_dataloader, model, n_epochs, fold):\n",
    "    optimizer = AdamW(model.parameters(), lr=1e-5)\n",
    "    num_train_steps = int(len(list(train_dataloader)) * n_epochs)\n",
    "    \n",
    "    scheduler = get_linear_schedule_with_warmup(\n",
    "        optimizer, num_warmup_steps=60, num_training_steps=num_train_steps\n",
    "    )\n",
    "    \n",
    "    prev_val_roc_auc = 0\n",
    "    lrs = []\n",
    "    \n",
    "    for epoch in range(n_epochs):\n",
    "        \n",
    "        model.train()\n",
    "        epoch_loss_set = []\n",
    "        \n",
    "        optimizer.zero_grad()\n",
    "\n",
    "        for j, batch in enumerate(tqdm(train_dataloader)):\n",
    "            \n",
    "            batch = tuple(t.to(device) for t in batch)\n",
    "            b_input_ids, b_input_mask, b_labels = batch\n",
    "                        \n",
    "            pred_probs = model.forward(b_input_ids, b_input_mask)\n",
    "            \n",
    "            my_loss = loss(pred_probs, b_labels)\n",
    "            epoch_loss_set.append(my_loss.item())\n",
    "            my_loss.backward()\n",
    "                 \n",
    "            pred_probs = pred_probs.detach().to('cpu').numpy()\n",
    "            pred_labels = pred_probs.argmax(axis=1)\n",
    "            b_labels = b_labels.to('cpu').numpy()\n",
    "            \n",
    "            grad_norm = torch.nn.utils.clip_grad_norm_(model.parameters(), max_grad_norm)\n",
    "            optimizer.step()\n",
    "            scheduler.step()  # Update learning rate schedule\n",
    "            optimizer.zero_grad()\n",
    "                 \n",
    "            if j % 20 == 0 and j != 0:\n",
    "                print('Epoch [{}/{}] ... Step [{}] ... LR: {:.8f} ... Grad: {:.2f} ... Mean loss: {:.4f}'.format(epoch + 1, n_epochs, j, scheduler.get_last_lr()[0], grad_norm, np.mean(epoch_loss_set)))\n",
    "                print()\n",
    "                \n",
    "            if j == 0:\n",
    "                all_train_labels = b_labels\n",
    "                all_train_preds = pred_labels\n",
    "            else:\n",
    "                all_train_labels = np.hstack([all_train_labels, b_labels])\n",
    "                all_train_preds = np.hstack([all_train_preds, pred_labels])\n",
    "                                \n",
    "        train_f1 = f1_score(all_train_labels, all_train_preds, average='weighted')\n",
    "        \n",
    "        map_labels = {real_label: i for i, real_label in enumerate(set(all_train_labels))}\n",
    "        converted_all_train_labels = [map_labels[val] for val in all_train_labels]\n",
    "        converted_all_train_preds = [map_labels[val] for val in all_train_preds]\n",
    "            \n",
    "        train_roc_auc = roc_auc_score(converted_all_train_labels, one_label_to_many(converted_all_train_preds, len(map_labels)), multi_class='ovo')\n",
    "        \n",
    "        print()\n",
    "        print('Epoch [{}/{}] ... Train ROC-AUC: {:.2f} ... Train f1: {:.2f} ... Mean train loss: {:.4f}'.format(epoch + 1, n_epochs, train_roc_auc, train_f1, np.mean(epoch_loss_set)))\n",
    "        print()\n",
    "        \n",
    "        all_val_preds, current_val_roc_auc = validation_loop(val_dataloader, model)\n",
    "        \n",
    "        if current_val_roc_auc > prev_val_roc_auc:\n",
    "            prev_val_roc_auc = current_val_roc_auc\n",
    "            torch.save(model.state_dict(), f'./folds_models/xlm-roberta_model_{fold}_{epoch}.pt')\n",
    "            continue\n",
    "        else:\n",
    "            model.load_state_dict(torch.load(f'./folds_models/xlm-roberta_model_{fold}_{epoch - 1}.pt'))\n",
    "            break\n",
    "    return model\n",
    "        \n",
    "def validation_loop(val_dataloader, model):\n",
    "    val_loss_set = []\n",
    "\n",
    "    model.eval()\n",
    "\n",
    "    for j, batch in enumerate(val_dataloader):\n",
    "        batch = tuple(t.to(device) for t in batch)\n",
    "        b_input_ids, b_input_mask, b_labels = batch\n",
    "\n",
    "        with torch.no_grad():\n",
    "            pred_probs = model.forward(b_input_ids, b_input_mask)\n",
    "            val_loss = loss(pred_probs, b_labels)\n",
    "            val_loss_set.append(val_loss.item())\n",
    "\n",
    "            b_labels = b_labels.to('cpu').numpy()\n",
    "            pred_probs = pred_probs.detach().to('cpu').numpy()\n",
    "            pred_labels = pred_probs.argmax(axis=1)\n",
    "\n",
    "        if j == 0:\n",
    "            all_val_labels = b_labels\n",
    "            all_val_preds = pred_labels\n",
    "        else:\n",
    "            all_val_labels = np.hstack([all_val_labels, b_labels])\n",
    "            all_val_preds = np.hstack([all_val_preds, pred_labels])\n",
    "    \n",
    "    val_f1 = f1_score(all_val_labels, all_val_preds, average='weighted')\n",
    "    \n",
    "    map_labels = {real_label: i for i, real_label in enumerate(set(all_val_labels))}\n",
    "    converted_all_val_labels = [map_labels[val] for val in all_val_labels]\n",
    "    converted_all_val_preds = [map_labels[val] for val in all_val_preds]\n",
    "    \n",
    "    val_roc_auc = roc_auc_score(converted_all_val_labels, one_label_to_many(converted_all_val_preds, len(map_labels)), multi_class='ovo')\n",
    "    print()\n",
    "    print('Val ROC-AUC {:.2f} ... Val f1: {:.2f} ... Mean val loss: {:.4f}'.format(val_roc_auc, val_f1, np.mean(val_loss_set)))\n",
    "    print()\n",
    "    print('-------------------------------------------------------------------------------------------------------------------------')\n",
    "    print()\n",
    "    return all_val_preds, val_roc_auc\n",
    "\n",
    "def do_test_preds(model, test_dataloader):\n",
    "    model.eval()\n",
    "    test_probs = torch.empty(0, n_labels)\n",
    "    for batch in test_dataloader:\n",
    "        batch = tuple(t.to(device) for t in batch)\n",
    "        b_input_ids, b_input_mask = batch\n",
    "        with torch.no_grad():\n",
    "            pred_probs = model.forward(b_input_ids, b_input_mask)\n",
    "            pred_probs = pred_probs.detach().to('cpu')\n",
    "            test_probs = torch.cat([test_probs, pred_probs])\n",
    "    return test_probs.numpy()"
   ]
  },
  {
   "cell_type": "code",
   "execution_count": 10,
   "metadata": {},
   "outputs": [],
   "source": [
    "x_train, y_train = train_data['Текст Сообщения'], train_data['Категория']\n",
    "x_test = test_data['Текст Сообщения']\n",
    "\n",
    "n_labels = y_train.nunique()\n",
    "\n",
    "loss_set = []\n",
    "val_loss_set = []\n",
    "\n",
    "n_folds = 7\n",
    "n_epochs = 10\n",
    "hidden_neurons = 512\n",
    "batch_size = 24\n",
    "max_grad_norm = 2\n",
    "loss = torch.nn.CrossEntropyLoss()\n",
    "device = torch.device(\"cuda\" if torch.cuda.is_available() else 'cpu')\n",
    "val_roc_auc_treshold = 0.74\n",
    "global_seed = 145\n",
    "seed_step = 100\n",
    "\n",
    "folds = StratifiedKFold(n_splits=n_folds, shuffle=True, random_state=global_seed)\n",
    "splits = folds.split(x_train, y_train)\n",
    "y_probs = np.zeros([x_test.shape[0], n_labels])\n",
    "y_oof = np.zeros(x_train.shape[0])\n",
    "f1 = 0\n",
    "roc_auc = 0\n",
    "\n",
    "test_dataloader = create_dataloader(x_test, batch_size, 'sequential')"
   ]
  },
  {
   "cell_type": "code",
   "execution_count": 11,
   "metadata": {},
   "outputs": [],
   "source": [
    "def one_label_to_many(df, n_labels):\n",
    "    classes = [x for x in range(n_labels)]\n",
    "    y_test = []\n",
    "    min_class = min(classes)\n",
    "    count_class = len(classes)\n",
    "    for ll in df:\n",
    "        mass = [0] * count_class\n",
    "        mass[int(ll) - min_class] = 1\n",
    "        y_test.append(mass)\n",
    "\n",
    "    return y_test"
   ]
  },
  {
   "cell_type": "code",
   "execution_count": 12,
   "metadata": {},
   "outputs": [],
   "source": [
    "def train_val_loop(train_dataloader, val_dataloader, n_epochs, fold_n):\n",
    "    model = myBertModel(hidden_neurons=hidden_neurons, n_labels=n_labels)\n",
    "    model.to(device)\n",
    "    model = train_loop(train_dataloader, val_dataloader, model, n_epochs, fold_n)\n",
    "    val_preds, val_roc_auc = validation_loop(val_dataloader, model)\n",
    "    return model, val_preds, val_roc_auc"
   ]
  },
  {
   "cell_type": "code",
   "execution_count": 13,
   "metadata": {
    "scrolled": false
   },
   "outputs": [
    {
     "name": "stderr",
     "output_type": "stream",
     "text": [
      "/raid/nanosemantics/tumanov/venv2/lib/python3.8/site-packages/sklearn/model_selection/_split.py:680: UserWarning: The least populated class in y has only 3 members, which is less than n_splits=7.\n",
      "  warnings.warn(\n"
     ]
    },
    {
     "name": "stdout",
     "output_type": "stream",
     "text": [
      "Fold [1/7]\n"
     ]
    },
    {
     "data": {
      "application/vnd.jupyter.widget-view+json": {
       "model_id": "26ead0a91d10408c9693d196339bfd29",
       "version_major": 2,
       "version_minor": 0
      },
      "text/plain": [
       "  0%|          | 0/72 [00:00<?, ?it/s]"
      ]
     },
     "metadata": {},
     "output_type": "display_data"
    },
    {
     "name": "stdout",
     "output_type": "stream",
     "text": [
      "Epoch [1/10] ... Step [20] ... LR: 0.00000350 ... Grad: 19.07 ... Mean loss: 2.6000\n",
      "\n",
      "Epoch [1/10] ... Step [40] ... LR: 0.00000683 ... Grad: 19.95 ... Mean loss: 2.3553\n",
      "\n",
      "Epoch [1/10] ... Step [60] ... LR: 0.00000998 ... Grad: 10.90 ... Mean loss: 2.1689\n",
      "\n",
      "\n",
      "Epoch [1/10] ... Train ROC-AUC: 0.50 ... Train f1: 0.32 ... Mean train loss: 2.1033\n",
      "\n",
      "\n",
      "Val ROC-AUC 0.51 ... Val f1: 0.40 ... Mean val loss: 1.5132\n",
      "\n",
      "-------------------------------------------------------------------------------------------------------------------------\n",
      "\n"
     ]
    },
    {
     "data": {
      "application/vnd.jupyter.widget-view+json": {
       "model_id": "b6978019008b4f93ac6d78762c5550a4",
       "version_major": 2,
       "version_minor": 0
      },
      "text/plain": [
       "  0%|          | 0/72 [00:00<?, ?it/s]"
      ]
     },
     "metadata": {},
     "output_type": "display_data"
    },
    {
     "name": "stdout",
     "output_type": "stream",
     "text": [
      "Epoch [2/10] ... Step [20] ... LR: 0.00000950 ... Grad: 20.26 ... Mean loss: 1.2178\n",
      "\n",
      "Epoch [2/10] ... Step [40] ... LR: 0.00000920 ... Grad: 30.84 ... Mean loss: 1.0758\n",
      "\n",
      "Epoch [2/10] ... Step [60] ... LR: 0.00000889 ... Grad: 12.71 ... Mean loss: 0.9786\n",
      "\n",
      "\n",
      "Epoch [2/10] ... Train ROC-AUC: 0.59 ... Train f1: 0.65 ... Mean train loss: 0.9851\n",
      "\n",
      "\n",
      "Val ROC-AUC 0.70 ... Val f1: 0.75 ... Mean val loss: 0.7081\n",
      "\n",
      "-------------------------------------------------------------------------------------------------------------------------\n",
      "\n"
     ]
    },
    {
     "data": {
      "application/vnd.jupyter.widget-view+json": {
       "model_id": "15af8f2c74774237ad2dc295679e4d82",
       "version_major": 2,
       "version_minor": 0
      },
      "text/plain": [
       "  0%|          | 0/72 [00:00<?, ?it/s]"
      ]
     },
     "metadata": {},
     "output_type": "display_data"
    },
    {
     "name": "stdout",
     "output_type": "stream",
     "text": [
      "Epoch [3/10] ... Step [20] ... LR: 0.00000841 ... Grad: 19.57 ... Mean loss: 0.6450\n",
      "\n",
      "Epoch [3/10] ... Step [40] ... LR: 0.00000811 ... Grad: 19.18 ... Mean loss: 0.6197\n",
      "\n",
      "Epoch [3/10] ... Step [60] ... LR: 0.00000780 ... Grad: 15.35 ... Mean loss: 0.5824\n",
      "\n",
      "\n",
      "Epoch [3/10] ... Train ROC-AUC: 0.68 ... Train f1: 0.79 ... Mean train loss: 0.6055\n",
      "\n",
      "\n",
      "Val ROC-AUC 0.72 ... Val f1: 0.79 ... Mean val loss: 0.5759\n",
      "\n",
      "-------------------------------------------------------------------------------------------------------------------------\n",
      "\n"
     ]
    },
    {
     "data": {
      "application/vnd.jupyter.widget-view+json": {
       "model_id": "37d7be1647b84b11ac1bcdefc1afa4e8",
       "version_major": 2,
       "version_minor": 0
      },
      "text/plain": [
       "  0%|          | 0/72 [00:00<?, ?it/s]"
      ]
     },
     "metadata": {},
     "output_type": "display_data"
    },
    {
     "name": "stdout",
     "output_type": "stream",
     "text": [
      "Epoch [4/10] ... Step [20] ... LR: 0.00000732 ... Grad: 20.61 ... Mean loss: 0.4679\n",
      "\n",
      "Epoch [4/10] ... Step [40] ... LR: 0.00000702 ... Grad: 23.71 ... Mean loss: 0.4405\n",
      "\n",
      "Epoch [4/10] ... Step [60] ... LR: 0.00000671 ... Grad: 16.33 ... Mean loss: 0.4268\n",
      "\n",
      "\n",
      "Epoch [4/10] ... Train ROC-AUC: 0.71 ... Train f1: 0.84 ... Mean train loss: 0.4399\n",
      "\n",
      "\n",
      "Val ROC-AUC 0.72 ... Val f1: 0.82 ... Mean val loss: 0.5314\n",
      "\n",
      "-------------------------------------------------------------------------------------------------------------------------\n",
      "\n"
     ]
    },
    {
     "data": {
      "application/vnd.jupyter.widget-view+json": {
       "model_id": "188b35ee7082451da626ef869020652e",
       "version_major": 2,
       "version_minor": 0
      },
      "text/plain": [
       "  0%|          | 0/72 [00:00<?, ?it/s]"
      ]
     },
     "metadata": {},
     "output_type": "display_data"
    },
    {
     "name": "stdout",
     "output_type": "stream",
     "text": [
      "Epoch [5/10] ... Step [20] ... LR: 0.00000623 ... Grad: 25.31 ... Mean loss: 0.3523\n",
      "\n",
      "Epoch [5/10] ... Step [40] ... LR: 0.00000592 ... Grad: 11.80 ... Mean loss: 0.3409\n",
      "\n",
      "Epoch [5/10] ... Step [60] ... LR: 0.00000562 ... Grad: 6.33 ... Mean loss: 0.3296\n",
      "\n",
      "\n",
      "Epoch [5/10] ... Train ROC-AUC: 0.76 ... Train f1: 0.88 ... Mean train loss: 0.3429\n",
      "\n",
      "\n",
      "Val ROC-AUC 0.77 ... Val f1: 0.81 ... Mean val loss: 0.5840\n",
      "\n",
      "-------------------------------------------------------------------------------------------------------------------------\n",
      "\n"
     ]
    },
    {
     "data": {
      "application/vnd.jupyter.widget-view+json": {
       "model_id": "1809997ee6a14dbf962813b0828384ff",
       "version_major": 2,
       "version_minor": 0
      },
      "text/plain": [
       "  0%|          | 0/72 [00:00<?, ?it/s]"
      ]
     },
     "metadata": {},
     "output_type": "display_data"
    },
    {
     "name": "stdout",
     "output_type": "stream",
     "text": [
      "Epoch [6/10] ... Step [20] ... LR: 0.00000514 ... Grad: 8.66 ... Mean loss: 0.2588\n",
      "\n",
      "Epoch [6/10] ... Step [40] ... LR: 0.00000483 ... Grad: 22.58 ... Mean loss: 0.2514\n",
      "\n",
      "Epoch [6/10] ... Step [60] ... LR: 0.00000453 ... Grad: 6.07 ... Mean loss: 0.2457\n",
      "\n",
      "\n",
      "Epoch [6/10] ... Train ROC-AUC: 0.84 ... Train f1: 0.91 ... Mean train loss: 0.2612\n",
      "\n",
      "\n",
      "Val ROC-AUC 0.82 ... Val f1: 0.81 ... Mean val loss: 0.6872\n",
      "\n",
      "-------------------------------------------------------------------------------------------------------------------------\n",
      "\n"
     ]
    },
    {
     "data": {
      "application/vnd.jupyter.widget-view+json": {
       "model_id": "82f3b5e5a1044273a43235eb81ba5bad",
       "version_major": 2,
       "version_minor": 0
      },
      "text/plain": [
       "  0%|          | 0/72 [00:00<?, ?it/s]"
      ]
     },
     "metadata": {},
     "output_type": "display_data"
    },
    {
     "name": "stdout",
     "output_type": "stream",
     "text": [
      "Epoch [7/10] ... Step [20] ... LR: 0.00000405 ... Grad: 21.62 ... Mean loss: 0.2396\n",
      "\n",
      "Epoch [7/10] ... Step [40] ... LR: 0.00000374 ... Grad: 16.12 ... Mean loss: 0.2188\n",
      "\n",
      "Epoch [7/10] ... Step [60] ... LR: 0.00000344 ... Grad: 36.13 ... Mean loss: 0.1997\n",
      "\n",
      "\n",
      "Epoch [7/10] ... Train ROC-AUC: 0.89 ... Train f1: 0.93 ... Mean train loss: 0.2108\n",
      "\n",
      "\n",
      "Val ROC-AUC 0.83 ... Val f1: 0.84 ... Mean val loss: 0.6221\n",
      "\n",
      "-------------------------------------------------------------------------------------------------------------------------\n",
      "\n"
     ]
    },
    {
     "data": {
      "application/vnd.jupyter.widget-view+json": {
       "model_id": "610feddb9b8645f198a70474683efbc5",
       "version_major": 2,
       "version_minor": 0
      },
      "text/plain": [
       "  0%|          | 0/72 [00:00<?, ?it/s]"
      ]
     },
     "metadata": {},
     "output_type": "display_data"
    },
    {
     "name": "stdout",
     "output_type": "stream",
     "text": [
      "Epoch [8/10] ... Step [20] ... LR: 0.00000295 ... Grad: 22.34 ... Mean loss: 0.1967\n",
      "\n",
      "Epoch [8/10] ... Step [40] ... LR: 0.00000265 ... Grad: 24.32 ... Mean loss: 0.1799\n",
      "\n",
      "Epoch [8/10] ... Step [60] ... LR: 0.00000235 ... Grad: 11.07 ... Mean loss: 0.1624\n",
      "\n",
      "\n",
      "Epoch [8/10] ... Train ROC-AUC: 0.92 ... Train f1: 0.95 ... Mean train loss: 0.1675\n",
      "\n",
      "\n",
      "Val ROC-AUC 0.83 ... Val f1: 0.83 ... Mean val loss: 0.6481\n",
      "\n",
      "-------------------------------------------------------------------------------------------------------------------------\n",
      "\n"
     ]
    },
    {
     "data": {
      "application/vnd.jupyter.widget-view+json": {
       "model_id": "dea3b474d47f42acb8b2fd2f7becfda9",
       "version_major": 2,
       "version_minor": 0
      },
      "text/plain": [
       "  0%|          | 0/72 [00:00<?, ?it/s]"
      ]
     },
     "metadata": {},
     "output_type": "display_data"
    },
    {
     "name": "stdout",
     "output_type": "stream",
     "text": [
      "Epoch [9/10] ... Step [20] ... LR: 0.00000186 ... Grad: 7.36 ... Mean loss: 0.1596\n",
      "\n",
      "Epoch [9/10] ... Step [40] ... LR: 0.00000156 ... Grad: 17.90 ... Mean loss: 0.1414\n",
      "\n",
      "Epoch [9/10] ... Step [60] ... LR: 0.00000126 ... Grad: 3.14 ... Mean loss: 0.1295\n",
      "\n",
      "\n",
      "Epoch [9/10] ... Train ROC-AUC: 0.95 ... Train f1: 0.96 ... Mean train loss: 0.1355\n",
      "\n",
      "\n",
      "Val ROC-AUC 0.83 ... Val f1: 0.83 ... Mean val loss: 0.6793\n",
      "\n",
      "-------------------------------------------------------------------------------------------------------------------------\n",
      "\n",
      "\n",
      "Val ROC-AUC 0.83 ... Val f1: 0.83 ... Mean val loss: 0.6481\n",
      "\n",
      "-------------------------------------------------------------------------------------------------------------------------\n",
      "\n",
      "Fold [2/7]\n"
     ]
    },
    {
     "data": {
      "application/vnd.jupyter.widget-view+json": {
       "model_id": "743d6014f54848c297ab32582f9c367a",
       "version_major": 2,
       "version_minor": 0
      },
      "text/plain": [
       "  0%|          | 0/72 [00:00<?, ?it/s]"
      ]
     },
     "metadata": {},
     "output_type": "display_data"
    },
    {
     "name": "stdout",
     "output_type": "stream",
     "text": [
      "Epoch [1/10] ... Step [20] ... LR: 0.00000350 ... Grad: 22.38 ... Mean loss: 3.3125\n",
      "\n",
      "Epoch [1/10] ... Step [40] ... LR: 0.00000683 ... Grad: 28.43 ... Mean loss: 2.9071\n",
      "\n",
      "Epoch [1/10] ... Step [60] ... LR: 0.00000998 ... Grad: 110.28 ... Mean loss: 2.5394\n",
      "\n",
      "\n",
      "Epoch [1/10] ... Train ROC-AUC: 0.50 ... Train f1: 0.25 ... Mean train loss: 2.4178\n",
      "\n",
      "\n",
      "Val ROC-AUC 0.50 ... Val f1: 0.31 ... Mean val loss: 1.5637\n",
      "\n",
      "-------------------------------------------------------------------------------------------------------------------------\n",
      "\n"
     ]
    },
    {
     "data": {
      "application/vnd.jupyter.widget-view+json": {
       "model_id": "5c3dbe84042f4cf19c72afddd2333e23",
       "version_major": 2,
       "version_minor": 0
      },
      "text/plain": [
       "  0%|          | 0/72 [00:00<?, ?it/s]"
      ]
     },
     "metadata": {},
     "output_type": "display_data"
    },
    {
     "name": "stdout",
     "output_type": "stream",
     "text": [
      "Epoch [2/10] ... Step [20] ... LR: 0.00000950 ... Grad: 32.96 ... Mean loss: 1.3516\n",
      "\n",
      "Epoch [2/10] ... Step [40] ... LR: 0.00000920 ... Grad: 53.03 ... Mean loss: 1.1862\n",
      "\n",
      "Epoch [2/10] ... Step [60] ... LR: 0.00000889 ... Grad: 50.25 ... Mean loss: 1.0757\n",
      "\n",
      "\n",
      "Epoch [2/10] ... Train ROC-AUC: 0.59 ... Train f1: 0.65 ... Mean train loss: 1.0543\n",
      "\n",
      "\n",
      "Val ROC-AUC 0.71 ... Val f1: 0.76 ... Mean val loss: 0.6911\n",
      "\n",
      "-------------------------------------------------------------------------------------------------------------------------\n",
      "\n"
     ]
    },
    {
     "data": {
      "application/vnd.jupyter.widget-view+json": {
       "model_id": "1b78772b1bd64d59b8a88514aad7dbef",
       "version_major": 2,
       "version_minor": 0
      },
      "text/plain": [
       "  0%|          | 0/72 [00:00<?, ?it/s]"
      ]
     },
     "metadata": {},
     "output_type": "display_data"
    },
    {
     "name": "stdout",
     "output_type": "stream",
     "text": [
      "Epoch [3/10] ... Step [20] ... LR: 0.00000841 ... Grad: 38.81 ... Mean loss: 0.6921\n",
      "\n",
      "Epoch [3/10] ... Step [40] ... LR: 0.00000811 ... Grad: 10.42 ... Mean loss: 0.6250\n",
      "\n",
      "Epoch [3/10] ... Step [60] ... LR: 0.00000780 ... Grad: 38.03 ... Mean loss: 0.5801\n",
      "\n",
      "\n",
      "Epoch [3/10] ... Train ROC-AUC: 0.69 ... Train f1: 0.80 ... Mean train loss: 0.5831\n",
      "\n",
      "\n",
      "Val ROC-AUC 0.73 ... Val f1: 0.80 ... Mean val loss: 0.6049\n",
      "\n",
      "-------------------------------------------------------------------------------------------------------------------------\n",
      "\n"
     ]
    },
    {
     "data": {
      "application/vnd.jupyter.widget-view+json": {
       "model_id": "f2888bc30ee64103b6e2de969f4df4e4",
       "version_major": 2,
       "version_minor": 0
      },
      "text/plain": [
       "  0%|          | 0/72 [00:00<?, ?it/s]"
      ]
     },
     "metadata": {},
     "output_type": "display_data"
    },
    {
     "name": "stdout",
     "output_type": "stream",
     "text": [
      "Epoch [4/10] ... Step [20] ... LR: 0.00000732 ... Grad: 58.08 ... Mean loss: 0.5386\n",
      "\n",
      "Epoch [4/10] ... Step [40] ... LR: 0.00000702 ... Grad: 48.56 ... Mean loss: 0.4950\n",
      "\n",
      "Epoch [4/10] ... Step [60] ... LR: 0.00000671 ... Grad: 62.93 ... Mean loss: 0.4547\n",
      "\n",
      "\n",
      "Epoch [4/10] ... Train ROC-AUC: 0.72 ... Train f1: 0.85 ... Mean train loss: 0.4527\n",
      "\n",
      "\n",
      "Val ROC-AUC 0.73 ... Val f1: 0.81 ... Mean val loss: 0.6356\n",
      "\n",
      "-------------------------------------------------------------------------------------------------------------------------\n",
      "\n"
     ]
    },
    {
     "data": {
      "application/vnd.jupyter.widget-view+json": {
       "model_id": "6bcb575ab7ab4b70abf2c06a54d57129",
       "version_major": 2,
       "version_minor": 0
      },
      "text/plain": [
       "  0%|          | 0/72 [00:00<?, ?it/s]"
      ]
     },
     "metadata": {},
     "output_type": "display_data"
    },
    {
     "name": "stdout",
     "output_type": "stream",
     "text": [
      "Epoch [5/10] ... Step [20] ... LR: 0.00000623 ... Grad: 36.82 ... Mean loss: 0.4759\n",
      "\n",
      "Epoch [5/10] ... Step [40] ... LR: 0.00000592 ... Grad: 15.72 ... Mean loss: 0.4484\n",
      "\n",
      "Epoch [5/10] ... Step [60] ... LR: 0.00000562 ... Grad: 44.81 ... Mean loss: 0.4019\n",
      "\n",
      "\n",
      "Epoch [5/10] ... Train ROC-AUC: 0.78 ... Train f1: 0.87 ... Mean train loss: 0.3972\n",
      "\n",
      "\n",
      "Val ROC-AUC 0.75 ... Val f1: 0.82 ... Mean val loss: 0.6272\n",
      "\n",
      "-------------------------------------------------------------------------------------------------------------------------\n",
      "\n"
     ]
    },
    {
     "data": {
      "application/vnd.jupyter.widget-view+json": {
       "model_id": "4310dcea152c4212b3005763029dfc17",
       "version_major": 2,
       "version_minor": 0
      },
      "text/plain": [
       "  0%|          | 0/72 [00:00<?, ?it/s]"
      ]
     },
     "metadata": {},
     "output_type": "display_data"
    },
    {
     "name": "stdout",
     "output_type": "stream",
     "text": [
      "Epoch [6/10] ... Step [20] ... LR: 0.00000514 ... Grad: 34.68 ... Mean loss: 0.3415\n",
      "\n",
      "Epoch [6/10] ... Step [40] ... LR: 0.00000483 ... Grad: 10.57 ... Mean loss: 0.3017\n",
      "\n",
      "Epoch [6/10] ... Step [60] ... LR: 0.00000453 ... Grad: 29.80 ... Mean loss: 0.2773\n",
      "\n",
      "\n",
      "Epoch [6/10] ... Train ROC-AUC: 0.83 ... Train f1: 0.91 ... Mean train loss: 0.2740\n",
      "\n",
      "\n",
      "Val ROC-AUC 0.73 ... Val f1: 0.82 ... Mean val loss: 0.7124\n",
      "\n",
      "-------------------------------------------------------------------------------------------------------------------------\n",
      "\n",
      "\n",
      "Val ROC-AUC 0.75 ... Val f1: 0.82 ... Mean val loss: 0.6272\n",
      "\n",
      "-------------------------------------------------------------------------------------------------------------------------\n",
      "\n",
      "Fold [3/7]\n"
     ]
    },
    {
     "data": {
      "application/vnd.jupyter.widget-view+json": {
       "model_id": "5cc50c28ce984003a2889c5fa48d6caa",
       "version_major": 2,
       "version_minor": 0
      },
      "text/plain": [
       "  0%|          | 0/72 [00:00<?, ?it/s]"
      ]
     },
     "metadata": {},
     "output_type": "display_data"
    },
    {
     "name": "stdout",
     "output_type": "stream",
     "text": [
      "Epoch [1/10] ... Step [20] ... LR: 0.00000350 ... Grad: 19.03 ... Mean loss: 2.4157\n",
      "\n",
      "Epoch [1/10] ... Step [40] ... LR: 0.00000683 ... Grad: 18.18 ... Mean loss: 2.1971\n",
      "\n",
      "Epoch [1/10] ... Step [60] ... LR: 0.00000998 ... Grad: 12.18 ... Mean loss: 2.0390\n",
      "\n",
      "\n",
      "Epoch [1/10] ... Train ROC-AUC: 0.50 ... Train f1: 0.31 ... Mean train loss: 1.9928\n",
      "\n",
      "\n",
      "Val ROC-AUC 0.51 ... Val f1: 0.41 ... Mean val loss: 1.3558\n",
      "\n",
      "-------------------------------------------------------------------------------------------------------------------------\n",
      "\n"
     ]
    },
    {
     "data": {
      "application/vnd.jupyter.widget-view+json": {
       "model_id": "7efaa5d51b114a32ba3a3b638bfd8ef2",
       "version_major": 2,
       "version_minor": 0
      },
      "text/plain": [
       "  0%|          | 0/72 [00:00<?, ?it/s]"
      ]
     },
     "metadata": {},
     "output_type": "display_data"
    },
    {
     "name": "stdout",
     "output_type": "stream",
     "text": [
      "Epoch [2/10] ... Step [20] ... LR: 0.00000950 ... Grad: 27.23 ... Mean loss: 1.1183\n",
      "\n",
      "Epoch [2/10] ... Step [40] ... LR: 0.00000920 ... Grad: 14.19 ... Mean loss: 1.0376\n",
      "\n",
      "Epoch [2/10] ... Step [60] ... LR: 0.00000889 ... Grad: 23.10 ... Mean loss: 0.9398\n",
      "\n",
      "\n",
      "Epoch [2/10] ... Train ROC-AUC: 0.59 ... Train f1: 0.67 ... Mean train loss: 0.9440\n",
      "\n",
      "\n",
      "Val ROC-AUC 0.68 ... Val f1: 0.79 ... Mean val loss: 0.6452\n",
      "\n",
      "-------------------------------------------------------------------------------------------------------------------------\n",
      "\n"
     ]
    },
    {
     "data": {
      "application/vnd.jupyter.widget-view+json": {
       "model_id": "fa020d9af8714aaf9783ed17c7951a60",
       "version_major": 2,
       "version_minor": 0
      },
      "text/plain": [
       "  0%|          | 0/72 [00:00<?, ?it/s]"
      ]
     },
     "metadata": {},
     "output_type": "display_data"
    },
    {
     "name": "stdout",
     "output_type": "stream",
     "text": [
      "Epoch [3/10] ... Step [20] ... LR: 0.00000841 ... Grad: 23.91 ... Mean loss: 0.5896\n",
      "\n",
      "Epoch [3/10] ... Step [40] ... LR: 0.00000811 ... Grad: 24.49 ... Mean loss: 0.5697\n",
      "\n",
      "Epoch [3/10] ... Step [60] ... LR: 0.00000780 ... Grad: 16.53 ... Mean loss: 0.5229\n",
      "\n",
      "\n",
      "Epoch [3/10] ... Train ROC-AUC: 0.69 ... Train f1: 0.82 ... Mean train loss: 0.5408\n",
      "\n",
      "\n",
      "Val ROC-AUC 0.74 ... Val f1: 0.84 ... Mean val loss: 0.5468\n",
      "\n",
      "-------------------------------------------------------------------------------------------------------------------------\n",
      "\n"
     ]
    },
    {
     "data": {
      "application/vnd.jupyter.widget-view+json": {
       "model_id": "32c4bd42d9354f28bbfed0f23ea19d08",
       "version_major": 2,
       "version_minor": 0
      },
      "text/plain": [
       "  0%|          | 0/72 [00:00<?, ?it/s]"
      ]
     },
     "metadata": {},
     "output_type": "display_data"
    },
    {
     "name": "stdout",
     "output_type": "stream",
     "text": [
      "Epoch [4/10] ... Step [20] ... LR: 0.00000732 ... Grad: 13.68 ... Mean loss: 0.4370\n",
      "\n",
      "Epoch [4/10] ... Step [40] ... LR: 0.00000702 ... Grad: 25.02 ... Mean loss: 0.4318\n",
      "\n",
      "Epoch [4/10] ... Step [60] ... LR: 0.00000671 ... Grad: 14.60 ... Mean loss: 0.3890\n",
      "\n",
      "\n",
      "Epoch [4/10] ... Train ROC-AUC: 0.74 ... Train f1: 0.86 ... Mean train loss: 0.3996\n",
      "\n",
      "\n",
      "Val ROC-AUC 0.76 ... Val f1: 0.84 ... Mean val loss: 0.5332\n",
      "\n",
      "-------------------------------------------------------------------------------------------------------------------------\n",
      "\n"
     ]
    },
    {
     "data": {
      "application/vnd.jupyter.widget-view+json": {
       "model_id": "ea62c603df974e1989fa3d765ed9cc22",
       "version_major": 2,
       "version_minor": 0
      },
      "text/plain": [
       "  0%|          | 0/72 [00:00<?, ?it/s]"
      ]
     },
     "metadata": {},
     "output_type": "display_data"
    },
    {
     "name": "stdout",
     "output_type": "stream",
     "text": [
      "Epoch [5/10] ... Step [20] ... LR: 0.00000623 ... Grad: 44.87 ... Mean loss: 0.3115\n",
      "\n",
      "Epoch [5/10] ... Step [40] ... LR: 0.00000592 ... Grad: 19.63 ... Mean loss: 0.3163\n",
      "\n",
      "Epoch [5/10] ... Step [60] ... LR: 0.00000562 ... Grad: 22.66 ... Mean loss: 0.2964\n",
      "\n",
      "\n",
      "Epoch [5/10] ... Train ROC-AUC: 0.80 ... Train f1: 0.90 ... Mean train loss: 0.3099\n",
      "\n",
      "\n",
      "Val ROC-AUC 0.78 ... Val f1: 0.84 ... Mean val loss: 0.5548\n",
      "\n",
      "-------------------------------------------------------------------------------------------------------------------------\n",
      "\n"
     ]
    },
    {
     "data": {
      "application/vnd.jupyter.widget-view+json": {
       "model_id": "336e9a97e7674207b2448bcbd0a3c9f9",
       "version_major": 2,
       "version_minor": 0
      },
      "text/plain": [
       "  0%|          | 0/72 [00:00<?, ?it/s]"
      ]
     },
     "metadata": {},
     "output_type": "display_data"
    },
    {
     "name": "stdout",
     "output_type": "stream",
     "text": [
      "Epoch [6/10] ... Step [20] ... LR: 0.00000514 ... Grad: 57.83 ... Mean loss: 0.2466\n",
      "\n",
      "Epoch [6/10] ... Step [40] ... LR: 0.00000483 ... Grad: 34.35 ... Mean loss: 0.2464\n",
      "\n",
      "Epoch [6/10] ... Step [60] ... LR: 0.00000453 ... Grad: 21.51 ... Mean loss: 0.2267\n",
      "\n",
      "\n",
      "Epoch [6/10] ... Train ROC-AUC: 0.83 ... Train f1: 0.92 ... Mean train loss: 0.2372\n",
      "\n",
      "\n",
      "Val ROC-AUC 0.77 ... Val f1: 0.83 ... Mean val loss: 0.6205\n",
      "\n",
      "-------------------------------------------------------------------------------------------------------------------------\n",
      "\n",
      "\n",
      "Val ROC-AUC 0.78 ... Val f1: 0.84 ... Mean val loss: 0.5548\n",
      "\n",
      "-------------------------------------------------------------------------------------------------------------------------\n",
      "\n",
      "Fold [4/7]\n"
     ]
    },
    {
     "data": {
      "application/vnd.jupyter.widget-view+json": {
       "model_id": "448caf55e4554f85a60a22d09fcb6e04",
       "version_major": 2,
       "version_minor": 0
      },
      "text/plain": [
       "  0%|          | 0/72 [00:00<?, ?it/s]"
      ]
     },
     "metadata": {},
     "output_type": "display_data"
    },
    {
     "name": "stdout",
     "output_type": "stream",
     "text": [
      "Epoch [1/10] ... Step [20] ... LR: 0.00000350 ... Grad: 40.94 ... Mean loss: 3.0957\n",
      "\n",
      "Epoch [1/10] ... Step [40] ... LR: 0.00000683 ... Grad: 31.94 ... Mean loss: 2.6770\n",
      "\n",
      "Epoch [1/10] ... Step [60] ... LR: 0.00000998 ... Grad: 26.77 ... Mean loss: 2.3862\n",
      "\n",
      "\n",
      "Epoch [1/10] ... Train ROC-AUC: 0.50 ... Train f1: 0.28 ... Mean train loss: 2.2726\n",
      "\n",
      "\n",
      "Val ROC-AUC 0.55 ... Val f1: 0.58 ... Mean val loss: 1.2615\n",
      "\n",
      "-------------------------------------------------------------------------------------------------------------------------\n",
      "\n"
     ]
    },
    {
     "data": {
      "application/vnd.jupyter.widget-view+json": {
       "model_id": "f03c8ce6deb14795b7fd63fd4d449479",
       "version_major": 2,
       "version_minor": 0
      },
      "text/plain": [
       "  0%|          | 0/72 [00:00<?, ?it/s]"
      ]
     },
     "metadata": {},
     "output_type": "display_data"
    },
    {
     "name": "stdout",
     "output_type": "stream",
     "text": [
      "Epoch [2/10] ... Step [20] ... LR: 0.00000950 ... Grad: 23.65 ... Mean loss: 1.0168\n",
      "\n",
      "Epoch [2/10] ... Step [40] ... LR: 0.00000920 ... Grad: 31.12 ... Mean loss: 0.8944\n",
      "\n",
      "Epoch [2/10] ... Step [60] ... LR: 0.00000889 ... Grad: 29.08 ... Mean loss: 0.8304\n",
      "\n",
      "\n",
      "Epoch [2/10] ... Train ROC-AUC: 0.63 ... Train f1: 0.71 ... Mean train loss: 0.8332\n",
      "\n",
      "\n",
      "Val ROC-AUC 0.68 ... Val f1: 0.77 ... Mean val loss: 0.6218\n",
      "\n",
      "-------------------------------------------------------------------------------------------------------------------------\n",
      "\n"
     ]
    },
    {
     "data": {
      "application/vnd.jupyter.widget-view+json": {
       "model_id": "d7ff1b5b936a4d35ac1e565da06b113f",
       "version_major": 2,
       "version_minor": 0
      },
      "text/plain": [
       "  0%|          | 0/72 [00:00<?, ?it/s]"
      ]
     },
     "metadata": {},
     "output_type": "display_data"
    },
    {
     "name": "stdout",
     "output_type": "stream",
     "text": [
      "Epoch [3/10] ... Step [20] ... LR: 0.00000841 ... Grad: 42.21 ... Mean loss: 0.5318\n",
      "\n",
      "Epoch [3/10] ... Step [40] ... LR: 0.00000811 ... Grad: 23.77 ... Mean loss: 0.5157\n",
      "\n",
      "Epoch [3/10] ... Step [60] ... LR: 0.00000780 ... Grad: 28.32 ... Mean loss: 0.4788\n",
      "\n",
      "\n",
      "Epoch [3/10] ... Train ROC-AUC: 0.70 ... Train f1: 0.83 ... Mean train loss: 0.4989\n",
      "\n",
      "\n",
      "Val ROC-AUC 0.69 ... Val f1: 0.81 ... Mean val loss: 0.5711\n",
      "\n",
      "-------------------------------------------------------------------------------------------------------------------------\n",
      "\n"
     ]
    },
    {
     "data": {
      "application/vnd.jupyter.widget-view+json": {
       "model_id": "c722da53890e44ebbb26f575fcfe0300",
       "version_major": 2,
       "version_minor": 0
      },
      "text/plain": [
       "  0%|          | 0/72 [00:00<?, ?it/s]"
      ]
     },
     "metadata": {},
     "output_type": "display_data"
    },
    {
     "name": "stdout",
     "output_type": "stream",
     "text": [
      "Epoch [4/10] ... Step [20] ... LR: 0.00000732 ... Grad: 55.71 ... Mean loss: 0.3802\n",
      "\n",
      "Epoch [4/10] ... Step [40] ... LR: 0.00000702 ... Grad: 83.59 ... Mean loss: 0.3983\n",
      "\n",
      "Epoch [4/10] ... Step [60] ... LR: 0.00000671 ... Grad: 24.57 ... Mean loss: 0.3769\n",
      "\n",
      "\n",
      "Epoch [4/10] ... Train ROC-AUC: 0.76 ... Train f1: 0.87 ... Mean train loss: 0.3899\n",
      "\n",
      "\n",
      "Val ROC-AUC 0.69 ... Val f1: 0.80 ... Mean val loss: 0.5946\n",
      "\n",
      "-------------------------------------------------------------------------------------------------------------------------\n",
      "\n",
      "\n",
      "Val ROC-AUC 0.69 ... Val f1: 0.81 ... Mean val loss: 0.5711\n",
      "\n",
      "-------------------------------------------------------------------------------------------------------------------------\n",
      "\n",
      "Fold [4/7] is repeated\n"
     ]
    },
    {
     "data": {
      "application/vnd.jupyter.widget-view+json": {
       "model_id": "89d7aced36634e1cbc86211413ffe668",
       "version_major": 2,
       "version_minor": 0
      },
      "text/plain": [
       "  0%|          | 0/72 [00:00<?, ?it/s]"
      ]
     },
     "metadata": {},
     "output_type": "display_data"
    },
    {
     "name": "stdout",
     "output_type": "stream",
     "text": [
      "Epoch [1/10] ... Step [20] ... LR: 0.00000350 ... Grad: 22.50 ... Mean loss: 3.0297\n",
      "\n",
      "Epoch [1/10] ... Step [40] ... LR: 0.00000683 ... Grad: 21.38 ... Mean loss: 2.6668\n",
      "\n",
      "Epoch [1/10] ... Step [60] ... LR: 0.00000998 ... Grad: 22.64 ... Mean loss: 2.3848\n",
      "\n",
      "\n",
      "Epoch [1/10] ... Train ROC-AUC: 0.50 ... Train f1: 0.26 ... Mean train loss: 2.2872\n",
      "\n",
      "\n",
      "Val ROC-AUC 0.52 ... Val f1: 0.50 ... Mean val loss: 1.5965\n",
      "\n",
      "-------------------------------------------------------------------------------------------------------------------------\n",
      "\n"
     ]
    },
    {
     "data": {
      "application/vnd.jupyter.widget-view+json": {
       "model_id": "88455763b214402c8e094fad964e1298",
       "version_major": 2,
       "version_minor": 0
      },
      "text/plain": [
       "  0%|          | 0/72 [00:00<?, ?it/s]"
      ]
     },
     "metadata": {},
     "output_type": "display_data"
    },
    {
     "name": "stdout",
     "output_type": "stream",
     "text": [
      "Epoch [2/10] ... Step [20] ... LR: 0.00000950 ... Grad: 14.71 ... Mean loss: 1.1880\n",
      "\n",
      "Epoch [2/10] ... Step [40] ... LR: 0.00000920 ... Grad: 23.18 ... Mean loss: 1.0671\n",
      "\n",
      "Epoch [2/10] ... Step [60] ... LR: 0.00000889 ... Grad: 28.70 ... Mean loss: 0.9883\n",
      "\n",
      "\n",
      "Epoch [2/10] ... Train ROC-AUC: 0.61 ... Train f1: 0.67 ... Mean train loss: 0.9857\n",
      "\n",
      "\n",
      "Val ROC-AUC 0.68 ... Val f1: 0.77 ... Mean val loss: 0.6773\n",
      "\n",
      "-------------------------------------------------------------------------------------------------------------------------\n",
      "\n"
     ]
    },
    {
     "data": {
      "application/vnd.jupyter.widget-view+json": {
       "model_id": "0404bebddcea47e0949698a4ca313882",
       "version_major": 2,
       "version_minor": 0
      },
      "text/plain": [
       "  0%|          | 0/72 [00:00<?, ?it/s]"
      ]
     },
     "metadata": {},
     "output_type": "display_data"
    },
    {
     "name": "stdout",
     "output_type": "stream",
     "text": [
      "Epoch [3/10] ... Step [20] ... LR: 0.00000841 ... Grad: 46.10 ... Mean loss: 0.6330\n",
      "\n",
      "Epoch [3/10] ... Step [40] ... LR: 0.00000811 ... Grad: 15.74 ... Mean loss: 0.5944\n",
      "\n",
      "Epoch [3/10] ... Step [60] ... LR: 0.00000780 ... Grad: 43.15 ... Mean loss: 0.5637\n",
      "\n",
      "\n",
      "Epoch [3/10] ... Train ROC-AUC: 0.69 ... Train f1: 0.80 ... Mean train loss: 0.5793\n",
      "\n",
      "\n",
      "Val ROC-AUC 0.68 ... Val f1: 0.81 ... Mean val loss: 0.5376\n",
      "\n",
      "-------------------------------------------------------------------------------------------------------------------------\n",
      "\n"
     ]
    },
    {
     "data": {
      "application/vnd.jupyter.widget-view+json": {
       "model_id": "0f4be5a533414e68b042fc958bfd598b",
       "version_major": 2,
       "version_minor": 0
      },
      "text/plain": [
       "  0%|          | 0/72 [00:00<?, ?it/s]"
      ]
     },
     "metadata": {},
     "output_type": "display_data"
    },
    {
     "name": "stdout",
     "output_type": "stream",
     "text": [
      "Epoch [4/10] ... Step [20] ... LR: 0.00000732 ... Grad: 40.57 ... Mean loss: 0.4309\n",
      "\n",
      "Epoch [4/10] ... Step [40] ... LR: 0.00000702 ... Grad: 12.20 ... Mean loss: 0.4137\n",
      "\n",
      "Epoch [4/10] ... Step [60] ... LR: 0.00000671 ... Grad: 36.50 ... Mean loss: 0.3974\n",
      "\n",
      "\n",
      "Epoch [4/10] ... Train ROC-AUC: 0.73 ... Train f1: 0.86 ... Mean train loss: 0.4090\n",
      "\n",
      "\n",
      "Val ROC-AUC 0.68 ... Val f1: 0.81 ... Mean val loss: 0.5702\n",
      "\n",
      "-------------------------------------------------------------------------------------------------------------------------\n",
      "\n"
     ]
    },
    {
     "data": {
      "application/vnd.jupyter.widget-view+json": {
       "model_id": "a1fd018dfea848ba8080931aaac25d3d",
       "version_major": 2,
       "version_minor": 0
      },
      "text/plain": [
       "  0%|          | 0/72 [00:00<?, ?it/s]"
      ]
     },
     "metadata": {},
     "output_type": "display_data"
    },
    {
     "name": "stdout",
     "output_type": "stream",
     "text": [
      "Epoch [5/10] ... Step [20] ... LR: 0.00000623 ... Grad: 68.08 ... Mean loss: 0.3504\n",
      "\n",
      "Epoch [5/10] ... Step [40] ... LR: 0.00000592 ... Grad: 13.21 ... Mean loss: 0.3282\n",
      "\n",
      "Epoch [5/10] ... Step [60] ... LR: 0.00000562 ... Grad: 33.96 ... Mean loss: 0.3161\n",
      "\n",
      "\n",
      "Epoch [5/10] ... Train ROC-AUC: 0.80 ... Train f1: 0.89 ... Mean train loss: 0.3345\n",
      "\n",
      "\n",
      "Val ROC-AUC 0.69 ... Val f1: 0.82 ... Mean val loss: 0.5230\n",
      "\n",
      "-------------------------------------------------------------------------------------------------------------------------\n",
      "\n"
     ]
    },
    {
     "data": {
      "application/vnd.jupyter.widget-view+json": {
       "model_id": "d15633ce15d1420b9d079ea0e1ac6595",
       "version_major": 2,
       "version_minor": 0
      },
      "text/plain": [
       "  0%|          | 0/72 [00:00<?, ?it/s]"
      ]
     },
     "metadata": {},
     "output_type": "display_data"
    },
    {
     "name": "stdout",
     "output_type": "stream",
     "text": [
      "Epoch [6/10] ... Step [20] ... LR: 0.00000514 ... Grad: 37.91 ... Mean loss: 0.2803\n",
      "\n",
      "Epoch [6/10] ... Step [40] ... LR: 0.00000483 ... Grad: 28.49 ... Mean loss: 0.2898\n",
      "\n",
      "Epoch [6/10] ... Step [60] ... LR: 0.00000453 ... Grad: 35.30 ... Mean loss: 0.2773\n",
      "\n",
      "\n",
      "Epoch [6/10] ... Train ROC-AUC: 0.82 ... Train f1: 0.90 ... Mean train loss: 0.2845\n",
      "\n",
      "\n",
      "Val ROC-AUC 0.72 ... Val f1: 0.82 ... Mean val loss: 0.5356\n",
      "\n",
      "-------------------------------------------------------------------------------------------------------------------------\n",
      "\n"
     ]
    },
    {
     "data": {
      "application/vnd.jupyter.widget-view+json": {
       "model_id": "23cf3d35410d4cc78a08dd492be0d014",
       "version_major": 2,
       "version_minor": 0
      },
      "text/plain": [
       "  0%|          | 0/72 [00:00<?, ?it/s]"
      ]
     },
     "metadata": {},
     "output_type": "display_data"
    },
    {
     "name": "stdout",
     "output_type": "stream",
     "text": [
      "Epoch [7/10] ... Step [20] ... LR: 0.00000405 ... Grad: 20.95 ... Mean loss: 0.2284\n",
      "\n",
      "Epoch [7/10] ... Step [40] ... LR: 0.00000374 ... Grad: 21.27 ... Mean loss: 0.2157\n",
      "\n",
      "Epoch [7/10] ... Step [60] ... LR: 0.00000344 ... Grad: 12.69 ... Mean loss: 0.2019\n",
      "\n",
      "\n",
      "Epoch [7/10] ... Train ROC-AUC: 0.87 ... Train f1: 0.94 ... Mean train loss: 0.2108\n",
      "\n",
      "\n",
      "Val ROC-AUC 0.72 ... Val f1: 0.81 ... Mean val loss: 0.6093\n",
      "\n",
      "-------------------------------------------------------------------------------------------------------------------------\n",
      "\n",
      "\n",
      "Val ROC-AUC 0.72 ... Val f1: 0.82 ... Mean val loss: 0.5356\n",
      "\n",
      "-------------------------------------------------------------------------------------------------------------------------\n",
      "\n",
      "Fold [4/7] is repeated\n"
     ]
    },
    {
     "data": {
      "application/vnd.jupyter.widget-view+json": {
       "model_id": "ffd4c52cdb9e4263b1c1a08908b331c2",
       "version_major": 2,
       "version_minor": 0
      },
      "text/plain": [
       "  0%|          | 0/72 [00:00<?, ?it/s]"
      ]
     },
     "metadata": {},
     "output_type": "display_data"
    },
    {
     "name": "stdout",
     "output_type": "stream",
     "text": [
      "Epoch [1/10] ... Step [20] ... LR: 0.00000350 ... Grad: 21.93 ... Mean loss: 2.5847\n",
      "\n",
      "Epoch [1/10] ... Step [40] ... LR: 0.00000683 ... Grad: 22.47 ... Mean loss: 2.3563\n",
      "\n",
      "Epoch [1/10] ... Step [60] ... LR: 0.00000998 ... Grad: 22.76 ... Mean loss: 2.1734\n",
      "\n",
      "\n",
      "Epoch [1/10] ... Train ROC-AUC: 0.50 ... Train f1: 0.29 ... Mean train loss: 2.1184\n",
      "\n",
      "\n",
      "Val ROC-AUC 0.50 ... Val f1: 0.35 ... Mean val loss: 1.5643\n",
      "\n",
      "-------------------------------------------------------------------------------------------------------------------------\n",
      "\n"
     ]
    },
    {
     "data": {
      "application/vnd.jupyter.widget-view+json": {
       "model_id": "e40df2a111d348dba8d6631bd2d6ead7",
       "version_major": 2,
       "version_minor": 0
      },
      "text/plain": [
       "  0%|          | 0/72 [00:00<?, ?it/s]"
      ]
     },
     "metadata": {},
     "output_type": "display_data"
    },
    {
     "name": "stdout",
     "output_type": "stream",
     "text": [
      "Epoch [2/10] ... Step [20] ... LR: 0.00000950 ... Grad: 34.80 ... Mean loss: 1.2631\n",
      "\n",
      "Epoch [2/10] ... Step [40] ... LR: 0.00000920 ... Grad: 23.91 ... Mean loss: 1.0806\n",
      "\n",
      "Epoch [2/10] ... Step [60] ... LR: 0.00000889 ... Grad: 24.80 ... Mean loss: 0.9690\n",
      "\n",
      "\n",
      "Epoch [2/10] ... Train ROC-AUC: 0.60 ... Train f1: 0.68 ... Mean train loss: 0.9689\n",
      "\n",
      "\n",
      "Val ROC-AUC 0.66 ... Val f1: 0.75 ... Mean val loss: 0.7295\n",
      "\n",
      "-------------------------------------------------------------------------------------------------------------------------\n",
      "\n"
     ]
    },
    {
     "data": {
      "application/vnd.jupyter.widget-view+json": {
       "model_id": "878ef47f88d042cca52c09fb1d6ad4d0",
       "version_major": 2,
       "version_minor": 0
      },
      "text/plain": [
       "  0%|          | 0/72 [00:00<?, ?it/s]"
      ]
     },
     "metadata": {},
     "output_type": "display_data"
    },
    {
     "name": "stdout",
     "output_type": "stream",
     "text": [
      "Epoch [3/10] ... Step [20] ... LR: 0.00000841 ... Grad: 79.48 ... Mean loss: 0.6451\n",
      "\n",
      "Epoch [3/10] ... Step [40] ... LR: 0.00000811 ... Grad: 19.40 ... Mean loss: 0.5992\n",
      "\n",
      "Epoch [3/10] ... Step [60] ... LR: 0.00000780 ... Grad: 54.74 ... Mean loss: 0.5531\n",
      "\n",
      "\n",
      "Epoch [3/10] ... Train ROC-AUC: 0.68 ... Train f1: 0.80 ... Mean train loss: 0.5696\n",
      "\n",
      "\n",
      "Val ROC-AUC 0.72 ... Val f1: 0.80 ... Mean val loss: 0.6138\n",
      "\n",
      "-------------------------------------------------------------------------------------------------------------------------\n",
      "\n"
     ]
    },
    {
     "data": {
      "application/vnd.jupyter.widget-view+json": {
       "model_id": "5c905efdd125403b931a25630110a40e",
       "version_major": 2,
       "version_minor": 0
      },
      "text/plain": [
       "  0%|          | 0/72 [00:00<?, ?it/s]"
      ]
     },
     "metadata": {},
     "output_type": "display_data"
    },
    {
     "name": "stdout",
     "output_type": "stream",
     "text": [
      "Epoch [4/10] ... Step [20] ... LR: 0.00000732 ... Grad: 48.13 ... Mean loss: 0.4779\n",
      "\n",
      "Epoch [4/10] ... Step [40] ... LR: 0.00000702 ... Grad: 20.77 ... Mean loss: 0.4366\n",
      "\n",
      "Epoch [4/10] ... Step [60] ... LR: 0.00000671 ... Grad: 50.46 ... Mean loss: 0.4112\n",
      "\n",
      "\n",
      "Epoch [4/10] ... Train ROC-AUC: 0.75 ... Train f1: 0.86 ... Mean train loss: 0.4187\n",
      "\n",
      "\n",
      "Val ROC-AUC 0.71 ... Val f1: 0.81 ... Mean val loss: 0.5407\n",
      "\n",
      "-------------------------------------------------------------------------------------------------------------------------\n",
      "\n",
      "\n",
      "Val ROC-AUC 0.72 ... Val f1: 0.80 ... Mean val loss: 0.6138\n",
      "\n",
      "-------------------------------------------------------------------------------------------------------------------------\n",
      "\n",
      "Fold [4/7] is repeated\n"
     ]
    },
    {
     "data": {
      "application/vnd.jupyter.widget-view+json": {
       "model_id": "a359278a8ff24c11ba8397a4450ac42e",
       "version_major": 2,
       "version_minor": 0
      },
      "text/plain": [
       "  0%|          | 0/72 [00:00<?, ?it/s]"
      ]
     },
     "metadata": {},
     "output_type": "display_data"
    },
    {
     "name": "stdout",
     "output_type": "stream",
     "text": [
      "Epoch [1/10] ... Step [20] ... LR: 0.00000350 ... Grad: 14.54 ... Mean loss: 2.5809\n",
      "\n",
      "Epoch [1/10] ... Step [40] ... LR: 0.00000683 ... Grad: 19.92 ... Mean loss: 2.3297\n",
      "\n",
      "Epoch [1/10] ... Step [60] ... LR: 0.00000998 ... Grad: 14.06 ... Mean loss: 2.1479\n",
      "\n",
      "\n",
      "Epoch [1/10] ... Train ROC-AUC: 0.50 ... Train f1: 0.31 ... Mean train loss: 2.0654\n",
      "\n",
      "\n",
      "Val ROC-AUC 0.52 ... Val f1: 0.50 ... Mean val loss: 1.2736\n",
      "\n",
      "-------------------------------------------------------------------------------------------------------------------------\n",
      "\n"
     ]
    },
    {
     "data": {
      "application/vnd.jupyter.widget-view+json": {
       "model_id": "22f1b4ca00074e1f819619fa321c9d34",
       "version_major": 2,
       "version_minor": 0
      },
      "text/plain": [
       "  0%|          | 0/72 [00:00<?, ?it/s]"
      ]
     },
     "metadata": {},
     "output_type": "display_data"
    },
    {
     "name": "stdout",
     "output_type": "stream",
     "text": [
      "Epoch [2/10] ... Step [20] ... LR: 0.00000950 ... Grad: 25.79 ... Mean loss: 1.1087\n",
      "\n",
      "Epoch [2/10] ... Step [40] ... LR: 0.00000920 ... Grad: 24.17 ... Mean loss: 0.9580\n",
      "\n",
      "Epoch [2/10] ... Step [60] ... LR: 0.00000889 ... Grad: 77.68 ... Mean loss: 0.9057\n",
      "\n",
      "\n",
      "Epoch [2/10] ... Train ROC-AUC: 0.61 ... Train f1: 0.68 ... Mean train loss: 0.9046\n",
      "\n",
      "\n",
      "Val ROC-AUC 0.66 ... Val f1: 0.79 ... Mean val loss: 0.6624\n",
      "\n",
      "-------------------------------------------------------------------------------------------------------------------------\n",
      "\n"
     ]
    },
    {
     "data": {
      "application/vnd.jupyter.widget-view+json": {
       "model_id": "452fa298adf6428e89b3d6c09ec92dd7",
       "version_major": 2,
       "version_minor": 0
      },
      "text/plain": [
       "  0%|          | 0/72 [00:00<?, ?it/s]"
      ]
     },
     "metadata": {},
     "output_type": "display_data"
    },
    {
     "name": "stdout",
     "output_type": "stream",
     "text": [
      "Epoch [3/10] ... Step [20] ... LR: 0.00000841 ... Grad: 76.21 ... Mean loss: 0.6032\n",
      "\n",
      "Epoch [3/10] ... Step [40] ... LR: 0.00000811 ... Grad: 28.80 ... Mean loss: 0.5839\n",
      "\n",
      "Epoch [3/10] ... Step [60] ... LR: 0.00000780 ... Grad: 25.30 ... Mean loss: 0.5549\n",
      "\n",
      "\n",
      "Epoch [3/10] ... Train ROC-AUC: 0.68 ... Train f1: 0.81 ... Mean train loss: 0.5808\n",
      "\n",
      "\n",
      "Val ROC-AUC 0.68 ... Val f1: 0.81 ... Mean val loss: 0.5318\n",
      "\n",
      "-------------------------------------------------------------------------------------------------------------------------\n",
      "\n"
     ]
    },
    {
     "data": {
      "application/vnd.jupyter.widget-view+json": {
       "model_id": "3d461ff681414a5ca28bf74d7fdff7b0",
       "version_major": 2,
       "version_minor": 0
      },
      "text/plain": [
       "  0%|          | 0/72 [00:00<?, ?it/s]"
      ]
     },
     "metadata": {},
     "output_type": "display_data"
    },
    {
     "name": "stdout",
     "output_type": "stream",
     "text": [
      "Epoch [4/10] ... Step [20] ... LR: 0.00000732 ... Grad: 43.48 ... Mean loss: 0.4212\n",
      "\n",
      "Epoch [4/10] ... Step [40] ... LR: 0.00000702 ... Grad: 31.40 ... Mean loss: 0.4040\n",
      "\n",
      "Epoch [4/10] ... Step [60] ... LR: 0.00000671 ... Grad: 26.96 ... Mean loss: 0.3817\n",
      "\n",
      "\n",
      "Epoch [4/10] ... Train ROC-AUC: 0.73 ... Train f1: 0.86 ... Mean train loss: 0.3970\n",
      "\n",
      "\n",
      "Val ROC-AUC 0.69 ... Val f1: 0.79 ... Mean val loss: 0.5413\n",
      "\n",
      "-------------------------------------------------------------------------------------------------------------------------\n",
      "\n"
     ]
    },
    {
     "data": {
      "application/vnd.jupyter.widget-view+json": {
       "model_id": "4a4719e14263425da3cd9967e896bef6",
       "version_major": 2,
       "version_minor": 0
      },
      "text/plain": [
       "  0%|          | 0/72 [00:00<?, ?it/s]"
      ]
     },
     "metadata": {},
     "output_type": "display_data"
    },
    {
     "name": "stdout",
     "output_type": "stream",
     "text": [
      "Epoch [5/10] ... Step [20] ... LR: 0.00000623 ... Grad: 41.59 ... Mean loss: 0.3105\n",
      "\n",
      "Epoch [5/10] ... Step [40] ... LR: 0.00000592 ... Grad: 50.82 ... Mean loss: 0.3152\n",
      "\n",
      "Epoch [5/10] ... Step [60] ... LR: 0.00000562 ... Grad: 22.40 ... Mean loss: 0.3038\n",
      "\n",
      "\n",
      "Epoch [5/10] ... Train ROC-AUC: 0.80 ... Train f1: 0.90 ... Mean train loss: 0.3101\n",
      "\n",
      "\n",
      "Val ROC-AUC 0.72 ... Val f1: 0.79 ... Mean val loss: 0.6102\n",
      "\n",
      "-------------------------------------------------------------------------------------------------------------------------\n",
      "\n"
     ]
    },
    {
     "data": {
      "application/vnd.jupyter.widget-view+json": {
       "model_id": "d11c4255a7be4315b17a6ab4923cb04c",
       "version_major": 2,
       "version_minor": 0
      },
      "text/plain": [
       "  0%|          | 0/72 [00:00<?, ?it/s]"
      ]
     },
     "metadata": {},
     "output_type": "display_data"
    },
    {
     "name": "stdout",
     "output_type": "stream",
     "text": [
      "Epoch [6/10] ... Step [20] ... LR: 0.00000514 ... Grad: 64.23 ... Mean loss: 0.2319\n",
      "\n",
      "Epoch [6/10] ... Step [40] ... LR: 0.00000483 ... Grad: 30.44 ... Mean loss: 0.2159\n",
      "\n",
      "Epoch [6/10] ... Step [60] ... LR: 0.00000453 ... Grad: 32.53 ... Mean loss: 0.2083\n",
      "\n",
      "\n",
      "Epoch [6/10] ... Train ROC-AUC: 0.87 ... Train f1: 0.94 ... Mean train loss: 0.2145\n",
      "\n",
      "\n",
      "Val ROC-AUC 0.75 ... Val f1: 0.78 ... Mean val loss: 0.7122\n",
      "\n",
      "-------------------------------------------------------------------------------------------------------------------------\n",
      "\n"
     ]
    },
    {
     "data": {
      "application/vnd.jupyter.widget-view+json": {
       "model_id": "cf5ffda6d4c34b52b5bd2a7635c7cf12",
       "version_major": 2,
       "version_minor": 0
      },
      "text/plain": [
       "  0%|          | 0/72 [00:00<?, ?it/s]"
      ]
     },
     "metadata": {},
     "output_type": "display_data"
    },
    {
     "name": "stdout",
     "output_type": "stream",
     "text": [
      "Epoch [7/10] ... Step [20] ... LR: 0.00000405 ... Grad: 31.90 ... Mean loss: 0.2160\n",
      "\n",
      "Epoch [7/10] ... Step [40] ... LR: 0.00000374 ... Grad: 75.83 ... Mean loss: 0.1989\n",
      "\n",
      "Epoch [7/10] ... Step [60] ... LR: 0.00000344 ... Grad: 57.62 ... Mean loss: 0.1792\n",
      "\n",
      "\n",
      "Epoch [7/10] ... Train ROC-AUC: 0.91 ... Train f1: 0.94 ... Mean train loss: 0.1791\n",
      "\n",
      "\n",
      "Val ROC-AUC 0.75 ... Val f1: 0.79 ... Mean val loss: 0.7502\n",
      "\n",
      "-------------------------------------------------------------------------------------------------------------------------\n",
      "\n",
      "\n",
      "Val ROC-AUC 0.75 ... Val f1: 0.78 ... Mean val loss: 0.7122\n",
      "\n",
      "-------------------------------------------------------------------------------------------------------------------------\n",
      "\n",
      "Fold [5/7]\n"
     ]
    },
    {
     "data": {
      "application/vnd.jupyter.widget-view+json": {
       "model_id": "d0cd82db346140e6a4d1d78628a2ff68",
       "version_major": 2,
       "version_minor": 0
      },
      "text/plain": [
       "  0%|          | 0/72 [00:00<?, ?it/s]"
      ]
     },
     "metadata": {},
     "output_type": "display_data"
    },
    {
     "name": "stdout",
     "output_type": "stream",
     "text": [
      "Epoch [1/10] ... Step [20] ... LR: 0.00000350 ... Grad: 40.87 ... Mean loss: 2.5757\n",
      "\n",
      "Epoch [1/10] ... Step [40] ... LR: 0.00000683 ... Grad: 24.17 ... Mean loss: 2.3394\n",
      "\n",
      "Epoch [1/10] ... Step [60] ... LR: 0.00000998 ... Grad: 43.82 ... Mean loss: 2.1582\n",
      "\n",
      "\n",
      "Epoch [1/10] ... Train ROC-AUC: 0.50 ... Train f1: 0.31 ... Mean train loss: 2.0940\n",
      "\n",
      "\n",
      "Val ROC-AUC 0.50 ... Val f1: 0.32 ... Mean val loss: 1.5889\n",
      "\n",
      "-------------------------------------------------------------------------------------------------------------------------\n",
      "\n"
     ]
    },
    {
     "data": {
      "application/vnd.jupyter.widget-view+json": {
       "model_id": "05a59689f13a4d1fab112ed5c7da0c1d",
       "version_major": 2,
       "version_minor": 0
      },
      "text/plain": [
       "  0%|          | 0/72 [00:00<?, ?it/s]"
      ]
     },
     "metadata": {},
     "output_type": "display_data"
    },
    {
     "name": "stdout",
     "output_type": "stream",
     "text": [
      "Epoch [2/10] ... Step [20] ... LR: 0.00000950 ... Grad: 115.10 ... Mean loss: 1.2630\n",
      "\n",
      "Epoch [2/10] ... Step [40] ... LR: 0.00000920 ... Grad: 46.17 ... Mean loss: 1.1227\n",
      "\n",
      "Epoch [2/10] ... Step [60] ... LR: 0.00000889 ... Grad: 47.22 ... Mean loss: 1.0349\n",
      "\n",
      "\n",
      "Epoch [2/10] ... Train ROC-AUC: 0.59 ... Train f1: 0.65 ... Mean train loss: 1.0087\n",
      "\n",
      "\n",
      "Val ROC-AUC 0.70 ... Val f1: 0.73 ... Mean val loss: 0.7979\n",
      "\n",
      "-------------------------------------------------------------------------------------------------------------------------\n",
      "\n"
     ]
    },
    {
     "data": {
      "application/vnd.jupyter.widget-view+json": {
       "model_id": "6c86cc7838e14e698e6a7d6a6bd679f3",
       "version_major": 2,
       "version_minor": 0
      },
      "text/plain": [
       "  0%|          | 0/72 [00:00<?, ?it/s]"
      ]
     },
     "metadata": {},
     "output_type": "display_data"
    },
    {
     "name": "stdout",
     "output_type": "stream",
     "text": [
      "Epoch [3/10] ... Step [20] ... LR: 0.00000841 ... Grad: 29.61 ... Mean loss: 0.6179\n",
      "\n",
      "Epoch [3/10] ... Step [40] ... LR: 0.00000811 ... Grad: 15.00 ... Mean loss: 0.5754\n",
      "\n",
      "Epoch [3/10] ... Step [60] ... LR: 0.00000780 ... Grad: 24.90 ... Mean loss: 0.5389\n",
      "\n",
      "\n",
      "Epoch [3/10] ... Train ROC-AUC: 0.69 ... Train f1: 0.82 ... Mean train loss: 0.5368\n",
      "\n",
      "\n",
      "Val ROC-AUC 0.70 ... Val f1: 0.76 ... Mean val loss: 0.7417\n",
      "\n",
      "-------------------------------------------------------------------------------------------------------------------------\n",
      "\n",
      "\n",
      "Val ROC-AUC 0.70 ... Val f1: 0.73 ... Mean val loss: 0.7979\n",
      "\n",
      "-------------------------------------------------------------------------------------------------------------------------\n",
      "\n",
      "Fold [5/7] is repeated\n"
     ]
    },
    {
     "data": {
      "application/vnd.jupyter.widget-view+json": {
       "model_id": "5552bd3d7a8f4b2d84eb4ffb767f22fe",
       "version_major": 2,
       "version_minor": 0
      },
      "text/plain": [
       "  0%|          | 0/72 [00:00<?, ?it/s]"
      ]
     },
     "metadata": {},
     "output_type": "display_data"
    },
    {
     "name": "stdout",
     "output_type": "stream",
     "text": [
      "Epoch [1/10] ... Step [20] ... LR: 0.00000350 ... Grad: 24.71 ... Mean loss: 3.1592\n",
      "\n",
      "Epoch [1/10] ... Step [40] ... LR: 0.00000683 ... Grad: 21.50 ... Mean loss: 2.7823\n",
      "\n",
      "Epoch [1/10] ... Step [60] ... LR: 0.00000998 ... Grad: 15.91 ... Mean loss: 2.4503\n",
      "\n",
      "\n",
      "Epoch [1/10] ... Train ROC-AUC: 0.51 ... Train f1: 0.27 ... Mean train loss: 2.3111\n",
      "\n",
      "\n",
      "Val ROC-AUC 0.53 ... Val f1: 0.50 ... Mean val loss: 1.3150\n",
      "\n",
      "-------------------------------------------------------------------------------------------------------------------------\n",
      "\n"
     ]
    },
    {
     "data": {
      "application/vnd.jupyter.widget-view+json": {
       "model_id": "4ac1952ddbe2437cb6a0eabe071332d4",
       "version_major": 2,
       "version_minor": 0
      },
      "text/plain": [
       "  0%|          | 0/72 [00:00<?, ?it/s]"
      ]
     },
     "metadata": {},
     "output_type": "display_data"
    },
    {
     "name": "stdout",
     "output_type": "stream",
     "text": [
      "Epoch [2/10] ... Step [20] ... LR: 0.00000950 ... Grad: 52.81 ... Mean loss: 1.0169\n",
      "\n",
      "Epoch [2/10] ... Step [40] ... LR: 0.00000920 ... Grad: 23.94 ... Mean loss: 0.9166\n",
      "\n",
      "Epoch [2/10] ... Step [60] ... LR: 0.00000889 ... Grad: 34.41 ... Mean loss: 0.8290\n",
      "\n",
      "\n",
      "Epoch [2/10] ... Train ROC-AUC: 0.63 ... Train f1: 0.72 ... Mean train loss: 0.8197\n",
      "\n",
      "\n",
      "Val ROC-AUC 0.70 ... Val f1: 0.76 ... Mean val loss: 0.6916\n",
      "\n",
      "-------------------------------------------------------------------------------------------------------------------------\n",
      "\n"
     ]
    },
    {
     "data": {
      "application/vnd.jupyter.widget-view+json": {
       "model_id": "58cc631d3bb347798354deb6ee5367d6",
       "version_major": 2,
       "version_minor": 0
      },
      "text/plain": [
       "  0%|          | 0/72 [00:00<?, ?it/s]"
      ]
     },
     "metadata": {},
     "output_type": "display_data"
    },
    {
     "name": "stdout",
     "output_type": "stream",
     "text": [
      "Epoch [3/10] ... Step [20] ... LR: 0.00000841 ... Grad: 33.78 ... Mean loss: 0.5802\n",
      "\n",
      "Epoch [3/10] ... Step [40] ... LR: 0.00000811 ... Grad: 43.50 ... Mean loss: 0.5389\n",
      "\n",
      "Epoch [3/10] ... Step [60] ... LR: 0.00000780 ... Grad: 41.14 ... Mean loss: 0.4914\n",
      "\n",
      "\n",
      "Epoch [3/10] ... Train ROC-AUC: 0.71 ... Train f1: 0.84 ... Mean train loss: 0.4920\n",
      "\n",
      "\n",
      "Val ROC-AUC 0.71 ... Val f1: 0.77 ... Mean val loss: 0.6905\n",
      "\n",
      "-------------------------------------------------------------------------------------------------------------------------\n",
      "\n"
     ]
    },
    {
     "data": {
      "application/vnd.jupyter.widget-view+json": {
       "model_id": "9720d045b70549f1bc0557cad5fd96ea",
       "version_major": 2,
       "version_minor": 0
      },
      "text/plain": [
       "  0%|          | 0/72 [00:00<?, ?it/s]"
      ]
     },
     "metadata": {},
     "output_type": "display_data"
    },
    {
     "name": "stdout",
     "output_type": "stream",
     "text": [
      "Epoch [4/10] ... Step [20] ... LR: 0.00000732 ... Grad: 30.21 ... Mean loss: 0.3993\n",
      "\n",
      "Epoch [4/10] ... Step [40] ... LR: 0.00000702 ... Grad: 27.28 ... Mean loss: 0.3976\n",
      "\n",
      "Epoch [4/10] ... Step [60] ... LR: 0.00000671 ... Grad: 40.45 ... Mean loss: 0.3799\n",
      "\n",
      "\n",
      "Epoch [4/10] ... Train ROC-AUC: 0.74 ... Train f1: 0.86 ... Mean train loss: 0.3751\n",
      "\n",
      "\n",
      "Val ROC-AUC 0.74 ... Val f1: 0.77 ... Mean val loss: 0.7471\n",
      "\n",
      "-------------------------------------------------------------------------------------------------------------------------\n",
      "\n"
     ]
    },
    {
     "data": {
      "application/vnd.jupyter.widget-view+json": {
       "model_id": "6c36fcf0e298457fb7969551f0bfc8df",
       "version_major": 2,
       "version_minor": 0
      },
      "text/plain": [
       "  0%|          | 0/72 [00:00<?, ?it/s]"
      ]
     },
     "metadata": {},
     "output_type": "display_data"
    },
    {
     "name": "stdout",
     "output_type": "stream",
     "text": [
      "Epoch [5/10] ... Step [20] ... LR: 0.00000623 ... Grad: 24.22 ... Mean loss: 0.3138\n",
      "\n",
      "Epoch [5/10] ... Step [40] ... LR: 0.00000592 ... Grad: 11.33 ... Mean loss: 0.3121\n",
      "\n",
      "Epoch [5/10] ... Step [60] ... LR: 0.00000562 ... Grad: 22.50 ... Mean loss: 0.2973\n",
      "\n",
      "\n",
      "Epoch [5/10] ... Train ROC-AUC: 0.81 ... Train f1: 0.90 ... Mean train loss: 0.2921\n",
      "\n",
      "\n",
      "Val ROC-AUC 0.72 ... Val f1: 0.79 ... Mean val loss: 0.7833\n",
      "\n",
      "-------------------------------------------------------------------------------------------------------------------------\n",
      "\n",
      "\n",
      "Val ROC-AUC 0.74 ... Val f1: 0.77 ... Mean val loss: 0.7471\n",
      "\n",
      "-------------------------------------------------------------------------------------------------------------------------\n",
      "\n",
      "Fold [5/7] is repeated\n"
     ]
    },
    {
     "data": {
      "application/vnd.jupyter.widget-view+json": {
       "model_id": "626d79a995734d73b6ceebc3018bdfe2",
       "version_major": 2,
       "version_minor": 0
      },
      "text/plain": [
       "  0%|          | 0/72 [00:00<?, ?it/s]"
      ]
     },
     "metadata": {},
     "output_type": "display_data"
    },
    {
     "name": "stdout",
     "output_type": "stream",
     "text": [
      "Epoch [1/10] ... Step [20] ... LR: 0.00000350 ... Grad: 93.86 ... Mean loss: 2.2619\n",
      "\n",
      "Epoch [1/10] ... Step [40] ... LR: 0.00000683 ... Grad: 13.14 ... Mean loss: 2.1050\n",
      "\n",
      "Epoch [1/10] ... Step [60] ... LR: 0.00000998 ... Grad: 9.01 ... Mean loss: 1.9811\n",
      "\n",
      "\n",
      "Epoch [1/10] ... Train ROC-AUC: 0.50 ... Train f1: 0.31 ... Mean train loss: 1.9090\n",
      "\n",
      "\n",
      "Val ROC-AUC 0.54 ... Val f1: 0.51 ... Mean val loss: 1.2245\n",
      "\n",
      "-------------------------------------------------------------------------------------------------------------------------\n",
      "\n"
     ]
    },
    {
     "data": {
      "application/vnd.jupyter.widget-view+json": {
       "model_id": "df60eedb4bbb47ffb0d0d5917e738e5a",
       "version_major": 2,
       "version_minor": 0
      },
      "text/plain": [
       "  0%|          | 0/72 [00:00<?, ?it/s]"
      ]
     },
     "metadata": {},
     "output_type": "display_data"
    },
    {
     "name": "stdout",
     "output_type": "stream",
     "text": [
      "Epoch [2/10] ... Step [20] ... LR: 0.00000950 ... Grad: 31.65 ... Mean loss: 1.0192\n",
      "\n",
      "Epoch [2/10] ... Step [40] ... LR: 0.00000920 ... Grad: 12.24 ... Mean loss: 0.9239\n",
      "\n",
      "Epoch [2/10] ... Step [60] ... LR: 0.00000889 ... Grad: 23.09 ... Mean loss: 0.8382\n",
      "\n",
      "\n",
      "Epoch [2/10] ... Train ROC-AUC: 0.62 ... Train f1: 0.72 ... Mean train loss: 0.8276\n",
      "\n",
      "\n",
      "Val ROC-AUC 0.70 ... Val f1: 0.77 ... Mean val loss: 0.6830\n",
      "\n",
      "-------------------------------------------------------------------------------------------------------------------------\n",
      "\n"
     ]
    },
    {
     "data": {
      "application/vnd.jupyter.widget-view+json": {
       "model_id": "bc3235b20ad0472493f58974c1127025",
       "version_major": 2,
       "version_minor": 0
      },
      "text/plain": [
       "  0%|          | 0/72 [00:00<?, ?it/s]"
      ]
     },
     "metadata": {},
     "output_type": "display_data"
    },
    {
     "name": "stdout",
     "output_type": "stream",
     "text": [
      "Epoch [3/10] ... Step [20] ... LR: 0.00000841 ... Grad: 24.58 ... Mean loss: 0.5650\n",
      "\n",
      "Epoch [3/10] ... Step [40] ... LR: 0.00000811 ... Grad: 19.72 ... Mean loss: 0.5443\n",
      "\n",
      "Epoch [3/10] ... Step [60] ... LR: 0.00000780 ... Grad: 24.74 ... Mean loss: 0.5211\n",
      "\n",
      "\n",
      "Epoch [3/10] ... Train ROC-AUC: 0.69 ... Train f1: 0.82 ... Mean train loss: 0.5210\n",
      "\n",
      "\n",
      "Val ROC-AUC 0.71 ... Val f1: 0.79 ... Mean val loss: 0.6665\n",
      "\n",
      "-------------------------------------------------------------------------------------------------------------------------\n",
      "\n"
     ]
    },
    {
     "data": {
      "application/vnd.jupyter.widget-view+json": {
       "model_id": "8e04c2ffa69c40acbfcbdb0428f3ad63",
       "version_major": 2,
       "version_minor": 0
      },
      "text/plain": [
       "  0%|          | 0/72 [00:00<?, ?it/s]"
      ]
     },
     "metadata": {},
     "output_type": "display_data"
    },
    {
     "name": "stdout",
     "output_type": "stream",
     "text": [
      "Epoch [4/10] ... Step [20] ... LR: 0.00000732 ... Grad: 36.85 ... Mean loss: 0.3797\n",
      "\n",
      "Epoch [4/10] ... Step [40] ... LR: 0.00000702 ... Grad: 25.12 ... Mean loss: 0.3873\n",
      "\n",
      "Epoch [4/10] ... Step [60] ... LR: 0.00000671 ... Grad: 28.10 ... Mean loss: 0.3673\n",
      "\n",
      "\n",
      "Epoch [4/10] ... Train ROC-AUC: 0.73 ... Train f1: 0.88 ... Mean train loss: 0.3710\n",
      "\n",
      "\n",
      "Val ROC-AUC 0.74 ... Val f1: 0.78 ... Mean val loss: 0.7343\n",
      "\n",
      "-------------------------------------------------------------------------------------------------------------------------\n",
      "\n"
     ]
    },
    {
     "data": {
      "application/vnd.jupyter.widget-view+json": {
       "model_id": "993e44ee759746cdaf7bca90b9524346",
       "version_major": 2,
       "version_minor": 0
      },
      "text/plain": [
       "  0%|          | 0/72 [00:00<?, ?it/s]"
      ]
     },
     "metadata": {},
     "output_type": "display_data"
    },
    {
     "name": "stdout",
     "output_type": "stream",
     "text": [
      "Epoch [5/10] ... Step [20] ... LR: 0.00000623 ... Grad: 35.22 ... Mean loss: 0.2896\n",
      "\n",
      "Epoch [5/10] ... Step [40] ... LR: 0.00000592 ... Grad: 33.12 ... Mean loss: 0.3016\n",
      "\n",
      "Epoch [5/10] ... Step [60] ... LR: 0.00000562 ... Grad: 41.73 ... Mean loss: 0.2897\n",
      "\n",
      "\n",
      "Epoch [5/10] ... Train ROC-AUC: 0.79 ... Train f1: 0.90 ... Mean train loss: 0.2885\n",
      "\n",
      "\n",
      "Val ROC-AUC 0.75 ... Val f1: 0.75 ... Mean val loss: 0.8392\n",
      "\n",
      "-------------------------------------------------------------------------------------------------------------------------\n",
      "\n"
     ]
    },
    {
     "data": {
      "application/vnd.jupyter.widget-view+json": {
       "model_id": "1f13c87488494a6180ab164aa508d8f9",
       "version_major": 2,
       "version_minor": 0
      },
      "text/plain": [
       "  0%|          | 0/72 [00:00<?, ?it/s]"
      ]
     },
     "metadata": {},
     "output_type": "display_data"
    },
    {
     "name": "stdout",
     "output_type": "stream",
     "text": [
      "Epoch [6/10] ... Step [20] ... LR: 0.00000514 ... Grad: 47.32 ... Mean loss: 0.2163\n",
      "\n",
      "Epoch [6/10] ... Step [40] ... LR: 0.00000483 ... Grad: 20.78 ... Mean loss: 0.2361\n",
      "\n",
      "Epoch [6/10] ... Step [60] ... LR: 0.00000453 ... Grad: 22.84 ... Mean loss: 0.2271\n",
      "\n",
      "\n",
      "Epoch [6/10] ... Train ROC-AUC: 0.86 ... Train f1: 0.93 ... Mean train loss: 0.2235\n",
      "\n",
      "\n",
      "Val ROC-AUC 0.78 ... Val f1: 0.79 ... Mean val loss: 0.8208\n",
      "\n",
      "-------------------------------------------------------------------------------------------------------------------------\n",
      "\n"
     ]
    },
    {
     "data": {
      "application/vnd.jupyter.widget-view+json": {
       "model_id": "1eaec39c69c745e7a4e14b056cb2a7c1",
       "version_major": 2,
       "version_minor": 0
      },
      "text/plain": [
       "  0%|          | 0/72 [00:00<?, ?it/s]"
      ]
     },
     "metadata": {},
     "output_type": "display_data"
    },
    {
     "name": "stdout",
     "output_type": "stream",
     "text": [
      "Epoch [7/10] ... Step [20] ... LR: 0.00000405 ... Grad: 67.57 ... Mean loss: 0.1473\n",
      "\n",
      "Epoch [7/10] ... Step [40] ... LR: 0.00000374 ... Grad: 26.20 ... Mean loss: 0.1497\n",
      "\n",
      "Epoch [7/10] ... Step [60] ... LR: 0.00000344 ... Grad: 4.96 ... Mean loss: 0.1483\n",
      "\n",
      "\n",
      "Epoch [7/10] ... Train ROC-AUC: 0.91 ... Train f1: 0.96 ... Mean train loss: 0.1445\n",
      "\n",
      "\n",
      "Val ROC-AUC 0.76 ... Val f1: 0.80 ... Mean val loss: 0.9323\n",
      "\n",
      "-------------------------------------------------------------------------------------------------------------------------\n",
      "\n",
      "\n",
      "Val ROC-AUC 0.78 ... Val f1: 0.79 ... Mean val loss: 0.8208\n",
      "\n",
      "-------------------------------------------------------------------------------------------------------------------------\n",
      "\n",
      "Fold [6/7]\n"
     ]
    },
    {
     "data": {
      "application/vnd.jupyter.widget-view+json": {
       "model_id": "ae2cfdf449a34c829d5c2c8729da57fb",
       "version_major": 2,
       "version_minor": 0
      },
      "text/plain": [
       "  0%|          | 0/72 [00:00<?, ?it/s]"
      ]
     },
     "metadata": {},
     "output_type": "display_data"
    },
    {
     "name": "stdout",
     "output_type": "stream",
     "text": [
      "Epoch [1/10] ... Step [20] ... LR: 0.00000350 ... Grad: 16.33 ... Mean loss: 2.6422\n",
      "\n",
      "Epoch [1/10] ... Step [40] ... LR: 0.00000683 ... Grad: 15.60 ... Mean loss: 2.3656\n",
      "\n",
      "Epoch [1/10] ... Step [60] ... LR: 0.00000998 ... Grad: 17.20 ... Mean loss: 2.1592\n",
      "\n",
      "\n",
      "Epoch [1/10] ... Train ROC-AUC: 0.50 ... Train f1: 0.27 ... Mean train loss: 2.1074\n",
      "\n",
      "\n",
      "Val ROC-AUC 0.50 ... Val f1: 0.30 ... Mean val loss: 1.5671\n",
      "\n",
      "-------------------------------------------------------------------------------------------------------------------------\n",
      "\n"
     ]
    },
    {
     "data": {
      "application/vnd.jupyter.widget-view+json": {
       "model_id": "b2287297a3c74b7fafab0c7000e7065e",
       "version_major": 2,
       "version_minor": 0
      },
      "text/plain": [
       "  0%|          | 0/72 [00:00<?, ?it/s]"
      ]
     },
     "metadata": {},
     "output_type": "display_data"
    },
    {
     "name": "stdout",
     "output_type": "stream",
     "text": [
      "Epoch [2/10] ... Step [20] ... LR: 0.00000950 ... Grad: 28.94 ... Mean loss: 1.2825\n",
      "\n",
      "Epoch [2/10] ... Step [40] ... LR: 0.00000920 ... Grad: 45.95 ... Mean loss: 1.1176\n",
      "\n",
      "Epoch [2/10] ... Step [60] ... LR: 0.00000889 ... Grad: 31.57 ... Mean loss: 0.9925\n",
      "\n",
      "\n",
      "Epoch [2/10] ... Train ROC-AUC: 0.59 ... Train f1: 0.66 ... Mean train loss: 0.9823\n",
      "\n",
      "\n",
      "Val ROC-AUC 0.71 ... Val f1: 0.81 ... Mean val loss: 0.5799\n",
      "\n",
      "-------------------------------------------------------------------------------------------------------------------------\n",
      "\n"
     ]
    },
    {
     "data": {
      "application/vnd.jupyter.widget-view+json": {
       "model_id": "db03edfb9f144079aea20bb12e0de94c",
       "version_major": 2,
       "version_minor": 0
      },
      "text/plain": [
       "  0%|          | 0/72 [00:00<?, ?it/s]"
      ]
     },
     "metadata": {},
     "output_type": "display_data"
    },
    {
     "name": "stdout",
     "output_type": "stream",
     "text": [
      "Epoch [3/10] ... Step [20] ... LR: 0.00000841 ... Grad: 32.47 ... Mean loss: 0.6230\n",
      "\n",
      "Epoch [3/10] ... Step [40] ... LR: 0.00000811 ... Grad: 54.81 ... Mean loss: 0.5737\n",
      "\n",
      "Epoch [3/10] ... Step [60] ... LR: 0.00000780 ... Grad: 36.65 ... Mean loss: 0.5428\n",
      "\n",
      "\n",
      "Epoch [3/10] ... Train ROC-AUC: 0.70 ... Train f1: 0.82 ... Mean train loss: 0.5586\n",
      "\n",
      "\n",
      "Val ROC-AUC 0.72 ... Val f1: 0.81 ... Mean val loss: 0.5121\n",
      "\n",
      "-------------------------------------------------------------------------------------------------------------------------\n",
      "\n"
     ]
    },
    {
     "data": {
      "application/vnd.jupyter.widget-view+json": {
       "model_id": "3f74461310b748b8a2a7692bcdec2bfc",
       "version_major": 2,
       "version_minor": 0
      },
      "text/plain": [
       "  0%|          | 0/72 [00:00<?, ?it/s]"
      ]
     },
     "metadata": {},
     "output_type": "display_data"
    },
    {
     "name": "stdout",
     "output_type": "stream",
     "text": [
      "Epoch [4/10] ... Step [20] ... LR: 0.00000732 ... Grad: 31.60 ... Mean loss: 0.4576\n",
      "\n",
      "Epoch [4/10] ... Step [40] ... LR: 0.00000702 ... Grad: 36.30 ... Mean loss: 0.4536\n",
      "\n",
      "Epoch [4/10] ... Step [60] ... LR: 0.00000671 ... Grad: 31.94 ... Mean loss: 0.4366\n",
      "\n",
      "\n",
      "Epoch [4/10] ... Train ROC-AUC: 0.73 ... Train f1: 0.84 ... Mean train loss: 0.4403\n",
      "\n",
      "\n",
      "Val ROC-AUC 0.75 ... Val f1: 0.85 ... Mean val loss: 0.4683\n",
      "\n",
      "-------------------------------------------------------------------------------------------------------------------------\n",
      "\n"
     ]
    },
    {
     "data": {
      "application/vnd.jupyter.widget-view+json": {
       "model_id": "3ae5dba38354433d85255b62163b37f7",
       "version_major": 2,
       "version_minor": 0
      },
      "text/plain": [
       "  0%|          | 0/72 [00:00<?, ?it/s]"
      ]
     },
     "metadata": {},
     "output_type": "display_data"
    },
    {
     "name": "stdout",
     "output_type": "stream",
     "text": [
      "Epoch [5/10] ... Step [20] ... LR: 0.00000623 ... Grad: 31.74 ... Mean loss: 0.3368\n",
      "\n",
      "Epoch [5/10] ... Step [40] ... LR: 0.00000592 ... Grad: 20.78 ... Mean loss: 0.3151\n",
      "\n",
      "Epoch [5/10] ... Step [60] ... LR: 0.00000562 ... Grad: 71.11 ... Mean loss: 0.3071\n",
      "\n",
      "\n",
      "Epoch [5/10] ... Train ROC-AUC: 0.77 ... Train f1: 0.89 ... Mean train loss: 0.3174\n",
      "\n",
      "\n",
      "Val ROC-AUC 0.76 ... Val f1: 0.83 ... Mean val loss: 0.5059\n",
      "\n",
      "-------------------------------------------------------------------------------------------------------------------------\n",
      "\n"
     ]
    },
    {
     "data": {
      "application/vnd.jupyter.widget-view+json": {
       "model_id": "1495598d8b4d4ffd9cd8d9e32e8abdcc",
       "version_major": 2,
       "version_minor": 0
      },
      "text/plain": [
       "  0%|          | 0/72 [00:00<?, ?it/s]"
      ]
     },
     "metadata": {},
     "output_type": "display_data"
    },
    {
     "name": "stdout",
     "output_type": "stream",
     "text": [
      "Epoch [6/10] ... Step [20] ... LR: 0.00000514 ... Grad: 65.52 ... Mean loss: 0.2942\n",
      "\n",
      "Epoch [6/10] ... Step [40] ... LR: 0.00000483 ... Grad: 44.96 ... Mean loss: 0.2693\n",
      "\n",
      "Epoch [6/10] ... Step [60] ... LR: 0.00000453 ... Grad: 59.27 ... Mean loss: 0.2565\n",
      "\n",
      "\n",
      "Epoch [6/10] ... Train ROC-AUC: 0.82 ... Train f1: 0.91 ... Mean train loss: 0.2598\n",
      "\n",
      "\n",
      "Val ROC-AUC 0.78 ... Val f1: 0.83 ... Mean val loss: 0.5882\n",
      "\n",
      "-------------------------------------------------------------------------------------------------------------------------\n",
      "\n"
     ]
    },
    {
     "data": {
      "application/vnd.jupyter.widget-view+json": {
       "model_id": "d92197b136ec4865ad79c8fe779e8882",
       "version_major": 2,
       "version_minor": 0
      },
      "text/plain": [
       "  0%|          | 0/72 [00:00<?, ?it/s]"
      ]
     },
     "metadata": {},
     "output_type": "display_data"
    },
    {
     "name": "stdout",
     "output_type": "stream",
     "text": [
      "Epoch [7/10] ... Step [20] ... LR: 0.00000405 ... Grad: 43.50 ... Mean loss: 0.2374\n",
      "\n",
      "Epoch [7/10] ... Step [40] ... LR: 0.00000374 ... Grad: 20.63 ... Mean loss: 0.2125\n",
      "\n",
      "Epoch [7/10] ... Step [60] ... LR: 0.00000344 ... Grad: 45.99 ... Mean loss: 0.2089\n",
      "\n",
      "\n",
      "Epoch [7/10] ... Train ROC-AUC: 0.85 ... Train f1: 0.93 ... Mean train loss: 0.2231\n",
      "\n",
      "\n",
      "Val ROC-AUC 0.76 ... Val f1: 0.83 ... Mean val loss: 0.5871\n",
      "\n",
      "-------------------------------------------------------------------------------------------------------------------------\n",
      "\n",
      "\n",
      "Val ROC-AUC 0.78 ... Val f1: 0.83 ... Mean val loss: 0.5882\n",
      "\n",
      "-------------------------------------------------------------------------------------------------------------------------\n",
      "\n",
      "Fold [7/7]\n"
     ]
    },
    {
     "data": {
      "application/vnd.jupyter.widget-view+json": {
       "model_id": "d13179256ef146f4ad5847c4fec7cda2",
       "version_major": 2,
       "version_minor": 0
      },
      "text/plain": [
       "  0%|          | 0/72 [00:00<?, ?it/s]"
      ]
     },
     "metadata": {},
     "output_type": "display_data"
    },
    {
     "name": "stdout",
     "output_type": "stream",
     "text": [
      "Epoch [1/10] ... Step [20] ... LR: 0.00000350 ... Grad: 22.42 ... Mean loss: 3.0602\n",
      "\n",
      "Epoch [1/10] ... Step [40] ... LR: 0.00000683 ... Grad: 10.92 ... Mean loss: 2.7357\n",
      "\n",
      "Epoch [1/10] ... Step [60] ... LR: 0.00000998 ... Grad: 13.30 ... Mean loss: 2.4293\n",
      "\n",
      "\n",
      "Epoch [1/10] ... Train ROC-AUC: 0.50 ... Train f1: 0.25 ... Mean train loss: 2.3197\n",
      "\n",
      "\n",
      "Val ROC-AUC 0.52 ... Val f1: 0.40 ... Mean val loss: 1.3718\n",
      "\n",
      "-------------------------------------------------------------------------------------------------------------------------\n",
      "\n"
     ]
    },
    {
     "data": {
      "application/vnd.jupyter.widget-view+json": {
       "model_id": "2dc08602923e43c28e58552d9b1b70c4",
       "version_major": 2,
       "version_minor": 0
      },
      "text/plain": [
       "  0%|          | 0/72 [00:00<?, ?it/s]"
      ]
     },
     "metadata": {},
     "output_type": "display_data"
    },
    {
     "name": "stdout",
     "output_type": "stream",
     "text": [
      "Epoch [2/10] ... Step [20] ... LR: 0.00000950 ... Grad: 52.86 ... Mean loss: 1.1616\n",
      "\n",
      "Epoch [2/10] ... Step [40] ... LR: 0.00000920 ... Grad: 30.17 ... Mean loss: 1.0302\n",
      "\n",
      "Epoch [2/10] ... Step [60] ... LR: 0.00000889 ... Grad: 19.67 ... Mean loss: 0.9390\n",
      "\n",
      "\n",
      "Epoch [2/10] ... Train ROC-AUC: 0.60 ... Train f1: 0.68 ... Mean train loss: 0.9374\n",
      "\n",
      "\n",
      "Val ROC-AUC 0.70 ... Val f1: 0.82 ... Mean val loss: 0.5599\n",
      "\n",
      "-------------------------------------------------------------------------------------------------------------------------\n",
      "\n"
     ]
    },
    {
     "data": {
      "application/vnd.jupyter.widget-view+json": {
       "model_id": "06bc41d6a366499dab14f09da600db55",
       "version_major": 2,
       "version_minor": 0
      },
      "text/plain": [
       "  0%|          | 0/72 [00:00<?, ?it/s]"
      ]
     },
     "metadata": {},
     "output_type": "display_data"
    },
    {
     "name": "stdout",
     "output_type": "stream",
     "text": [
      "Epoch [3/10] ... Step [20] ... LR: 0.00000841 ... Grad: 29.62 ... Mean loss: 0.6206\n",
      "\n",
      "Epoch [3/10] ... Step [40] ... LR: 0.00000811 ... Grad: 30.03 ... Mean loss: 0.5798\n",
      "\n",
      "Epoch [3/10] ... Step [60] ... LR: 0.00000780 ... Grad: 13.81 ... Mean loss: 0.5463\n",
      "\n",
      "\n",
      "Epoch [3/10] ... Train ROC-AUC: 0.69 ... Train f1: 0.81 ... Mean train loss: 0.5587\n",
      "\n",
      "\n",
      "Val ROC-AUC 0.73 ... Val f1: 0.85 ... Mean val loss: 0.4883\n",
      "\n",
      "-------------------------------------------------------------------------------------------------------------------------\n",
      "\n"
     ]
    },
    {
     "data": {
      "application/vnd.jupyter.widget-view+json": {
       "model_id": "be7e3a939af843fda3a12a0c301ebfed",
       "version_major": 2,
       "version_minor": 0
      },
      "text/plain": [
       "  0%|          | 0/72 [00:00<?, ?it/s]"
      ]
     },
     "metadata": {},
     "output_type": "display_data"
    },
    {
     "name": "stdout",
     "output_type": "stream",
     "text": [
      "Epoch [4/10] ... Step [20] ... LR: 0.00000732 ... Grad: 94.82 ... Mean loss: 0.4280\n",
      "\n",
      "Epoch [4/10] ... Step [40] ... LR: 0.00000702 ... Grad: 24.99 ... Mean loss: 0.3994\n",
      "\n",
      "Epoch [4/10] ... Step [60] ... LR: 0.00000671 ... Grad: 20.05 ... Mean loss: 0.3794\n",
      "\n",
      "\n",
      "Epoch [4/10] ... Train ROC-AUC: 0.73 ... Train f1: 0.87 ... Mean train loss: 0.3937\n",
      "\n",
      "\n",
      "Val ROC-AUC 0.76 ... Val f1: 0.84 ... Mean val loss: 0.4852\n",
      "\n",
      "-------------------------------------------------------------------------------------------------------------------------\n",
      "\n"
     ]
    },
    {
     "data": {
      "application/vnd.jupyter.widget-view+json": {
       "model_id": "99f7d77d5c0441749cdba22498e8a91b",
       "version_major": 2,
       "version_minor": 0
      },
      "text/plain": [
       "  0%|          | 0/72 [00:00<?, ?it/s]"
      ]
     },
     "metadata": {},
     "output_type": "display_data"
    },
    {
     "name": "stdout",
     "output_type": "stream",
     "text": [
      "Epoch [5/10] ... Step [20] ... LR: 0.00000623 ... Grad: 66.16 ... Mean loss: 0.3180\n",
      "\n",
      "Epoch [5/10] ... Step [40] ... LR: 0.00000592 ... Grad: 23.54 ... Mean loss: 0.3032\n",
      "\n",
      "Epoch [5/10] ... Step [60] ... LR: 0.00000562 ... Grad: 33.39 ... Mean loss: 0.2900\n",
      "\n",
      "\n",
      "Epoch [5/10] ... Train ROC-AUC: 0.81 ... Train f1: 0.90 ... Mean train loss: 0.2964\n",
      "\n",
      "\n",
      "Val ROC-AUC 0.76 ... Val f1: 0.84 ... Mean val loss: 0.5702\n",
      "\n",
      "-------------------------------------------------------------------------------------------------------------------------\n",
      "\n"
     ]
    },
    {
     "data": {
      "application/vnd.jupyter.widget-view+json": {
       "model_id": "0069523428f14578b6461cfd252d1343",
       "version_major": 2,
       "version_minor": 0
      },
      "text/plain": [
       "  0%|          | 0/72 [00:00<?, ?it/s]"
      ]
     },
     "metadata": {},
     "output_type": "display_data"
    },
    {
     "name": "stdout",
     "output_type": "stream",
     "text": [
      "Epoch [6/10] ... Step [20] ... LR: 0.00000514 ... Grad: 48.52 ... Mean loss: 0.2973\n",
      "\n",
      "Epoch [6/10] ... Step [40] ... LR: 0.00000483 ... Grad: 31.57 ... Mean loss: 0.2819\n",
      "\n",
      "Epoch [6/10] ... Step [60] ... LR: 0.00000453 ... Grad: 60.02 ... Mean loss: 0.2564\n",
      "\n",
      "\n",
      "Epoch [6/10] ... Train ROC-AUC: 0.87 ... Train f1: 0.91 ... Mean train loss: 0.2618\n",
      "\n",
      "\n",
      "Val ROC-AUC 0.77 ... Val f1: 0.85 ... Mean val loss: 0.5554\n",
      "\n",
      "-------------------------------------------------------------------------------------------------------------------------\n",
      "\n"
     ]
    },
    {
     "data": {
      "application/vnd.jupyter.widget-view+json": {
       "model_id": "bc00181bd0654e45b5cdd906388ee18b",
       "version_major": 2,
       "version_minor": 0
      },
      "text/plain": [
       "  0%|          | 0/72 [00:00<?, ?it/s]"
      ]
     },
     "metadata": {},
     "output_type": "display_data"
    },
    {
     "name": "stdout",
     "output_type": "stream",
     "text": [
      "Epoch [7/10] ... Step [20] ... LR: 0.00000405 ... Grad: 110.47 ... Mean loss: 0.2399\n",
      "\n",
      "Epoch [7/10] ... Step [40] ... LR: 0.00000374 ... Grad: 6.68 ... Mean loss: 0.2057\n",
      "\n",
      "Epoch [7/10] ... Step [60] ... LR: 0.00000344 ... Grad: 35.78 ... Mean loss: 0.1935\n",
      "\n",
      "\n",
      "Epoch [7/10] ... Train ROC-AUC: 0.89 ... Train f1: 0.93 ... Mean train loss: 0.1990\n",
      "\n",
      "\n",
      "Val ROC-AUC 0.76 ... Val f1: 0.85 ... Mean val loss: 0.6008\n",
      "\n",
      "-------------------------------------------------------------------------------------------------------------------------\n",
      "\n",
      "\n",
      "Val ROC-AUC 0.77 ... Val f1: 0.85 ... Mean val loss: 0.5554\n",
      "\n",
      "-------------------------------------------------------------------------------------------------------------------------\n",
      "\n",
      "\n",
      "Mean F1 = 0.8205962473048001\n",
      "\n",
      "Out of folds F1 = 0.8216585720681425\n",
      "\n",
      "Mean ROC-AUC = 0.7770276084523364\n",
      "\n",
      "Out of folds ROC-AUC = 0.7519888478624376\n"
     ]
    }
   ],
   "source": [
    "for fold_n, (train_index, valid_index) in enumerate(splits):\n",
    "    global_seed += fold_n * seed_step\n",
    "    set_seed(global_seed)\n",
    "    \n",
    "    X_tr, X_val = x_train.iloc[train_index].to_numpy(), x_train.iloc[valid_index].to_numpy()\n",
    "    y_tr, y_val = y_train.iloc[train_index].to_numpy(), y_train.iloc[valid_index].to_numpy()\n",
    "    \n",
    "    train_dataloader = create_dataloader(X_tr, batch_size, 'sequential', y_tr)\n",
    "    val_dataloader = create_dataloader(X_val, batch_size, 'sequential', y_val)\n",
    "    print(f\"Fold [{fold_n + 1}/{n_folds}]\")\n",
    "    \n",
    "    model, val_preds, val_roc_auc = train_val_loop(train_dataloader, val_dataloader, n_epochs, fold_n)\n",
    "    y_test_probs = do_test_preds(model, test_dataloader)\n",
    "    \n",
    "    candidates_val_preds = [val_preds]\n",
    "    candidates_test_probs = [y_test_probs]\n",
    "    candidates_val_roc_aucs = np.array(val_roc_auc)\n",
    "    \n",
    "    n_rep = 0\n",
    "    while val_roc_auc <= val_roc_auc_treshold:\n",
    "        if n_rep >= 5:\n",
    "            break\n",
    "        print(f\"Fold [{fold_n + 1}/{n_folds}] is repeated\")\n",
    "        model, val_preds, val_roc_auc = train_val_loop(train_dataloader, val_dataloader, n_epochs, fold_n)\n",
    "        y_test_probs = do_test_preds(model, test_dataloader)\n",
    "        \n",
    "        candidates_val_preds.append(val_preds)\n",
    "        candidates_test_probs.append(y_test_probs)\n",
    "        candidates_val_roc_aucs = np.append(candidates_val_roc_aucs, val_roc_auc)\n",
    "        n_rep += 1\n",
    "        \n",
    "    max_ind_val_roc_auc = candidates_val_roc_aucs.argmax()\n",
    "    val_preds = candidates_val_preds[max_ind_val_roc_auc]\n",
    "    y_test_probs = candidates_test_probs[max_ind_val_roc_auc]\n",
    "    \n",
    "    y_oof[valid_index] = val_preds\n",
    "    f1 += f1_score(y_val, val_preds, average='weighted') / n_folds\n",
    "    \n",
    "    map_labels = {real_label: i for i, real_label in enumerate(set(y_val))}\n",
    "    converted_y_val = [map_labels[val] for val in y_val]\n",
    "    converted_val_preds = [map_labels[val] for val in val_preds]\n",
    "    \n",
    "    roc_auc += roc_auc_score(converted_y_val, one_label_to_many(converted_val_preds, len(map_labels)), multi_class='ovo') / n_folds\n",
    "    y_probs += y_test_probs / n_folds    \n",
    "    del X_tr, X_val, y_tr, y_val\n",
    "    model.to('cpu')\n",
    "    \n",
    "print(f\"\\nMean F1 = {f1}\")\n",
    "print(f\"\\nOut of folds F1 = {f1_score(y_train, y_oof, average='weighted')}\")\n",
    "print(f\"\\nMean ROC-AUC = {roc_auc}\")\n",
    "print(f\"\\nOut of folds ROC-AUC = {roc_auc_score(y_train, one_label_to_many(y_oof, n_labels),  multi_class='ovo')}\")\n",
    "\n",
    "test_preds = y_probs.argmax(axis=1)\n",
    "reverse_repl_dict = {value:key for key, value in repl_dict.items()}\n",
    "test_data['Категория'] = test_preds\n",
    "test_data['Категория'] = test_data['Категория'].map(reverse_repl_dict)\n",
    "n_submission = max([int(file.split('_')[-1].split('.')[0]) for file in os.listdir('./submissions') if 'submission' in file]) + 1\n",
    "test_data[['id', 'Категория']].to_csv(f'./data/submission_{n_submission}.csv', index=False)"
   ]
  },
  {
   "cell_type": "code",
   "execution_count": null,
   "metadata": {},
   "outputs": [],
   "source": []
  }
 ],
 "metadata": {
  "accelerator": "GPU",
  "colab": {
   "collapsed_sections": [],
   "include_colab_link": true,
   "machine_shape": "hm",
   "name": "Копия блокнота \"HACKANONS COLAB 25GB RAM.ipynb\"",
   "provenance": []
  },
  "kernelspec": {
   "display_name": "Python 3 (ipykernel)",
   "language": "python",
   "name": "python3"
  },
  "language_info": {
   "codemirror_mode": {
    "name": "ipython",
    "version": 3
   },
   "file_extension": ".py",
   "mimetype": "text/x-python",
   "name": "python",
   "nbconvert_exporter": "python",
   "pygments_lexer": "ipython3",
   "version": "3.8.13"
  }
 },
 "nbformat": 4,
 "nbformat_minor": 1
}
